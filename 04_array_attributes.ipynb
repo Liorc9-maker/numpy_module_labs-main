{
 "cells": [
  {
   "cell_type": "markdown",
   "metadata": {},
   "source": [
    "## 04 - NumPy Array Attributes Exercises\n",
    "\n",
    "**Note**: If any exercises require techniques we haven't covered yet - you should look this up! It's part of the learning process, we need to build the muscle of learning how to do things we haven't seen before.\n",
    "\n",
    "Don't be shy, ask for help on Discord!\n",
    "\n",
    "1. Create a 2D NumPy array with 4 rows and 5 columns filled with random integers between 0 and 9. Print the dtype of the array.\n",
    "\n"
   ]
  },
  {
   "cell_type": "code",
   "execution_count": 2,
   "metadata": {},
   "outputs": [],
   "source": [
    "import numpy as np"
   ]
  },
  {
   "cell_type": "code",
   "execution_count": 5,
   "metadata": {},
   "outputs": [
    {
     "name": "stdout",
     "output_type": "stream",
     "text": [
      "[[8 8 7 7 5]\n",
      " [2 2 7 3 5]\n",
      " [8 4 7 5 4]\n",
      " [5 0 0 6 5]]\n",
      "int64\n"
     ]
    }
   ],
   "source": [
    "arr = np.random.randint(0, 10, size = (4, 5))\n",
    "print(arr)\n",
    "print(arr.dtype)"
   ]
  },
  {
   "cell_type": "markdown",
   "metadata": {},
   "source": [
    "\n",
    "2. Create a 3D NumPy array with 2 matrices of 3 rows and 4 columns filled with the value 3.14. Print the shape of the array.\n"
   ]
  },
  {
   "cell_type": "code",
   "execution_count": 8,
   "metadata": {},
   "outputs": [
    {
     "name": "stdout",
     "output_type": "stream",
     "text": [
      "[[3.14 3.14 3.14 3.14]\n",
      " [3.14 3.14 3.14 3.14]\n",
      " [3.14 3.14 3.14 3.14]]\n",
      "float64\n"
     ]
    }
   ],
   "source": [
    "arr = np.full((3, 4), 3.14)\n",
    "print(arr)\n",
    "print(arr.dtype)"
   ]
  },
  {
   "cell_type": "markdown",
   "metadata": {},
   "source": [
    "\n",
    "3. Create a 1D NumPy array containing the numbers from 1 to 10. Print the number of dimensions (ndim) of the array.\n"
   ]
  },
  {
   "cell_type": "code",
   "execution_count": 11,
   "metadata": {},
   "outputs": [
    {
     "name": "stdout",
     "output_type": "stream",
     "text": [
      "[ 1  2  3  4  5  6  7  8  9 10]\n",
      "1\n"
     ]
    }
   ],
   "source": [
    "arr = np.arange(1, 11)\n",
    "print(arr)\n",
    "print(arr.ndim)"
   ]
  },
  {
   "cell_type": "markdown",
   "metadata": {},
   "source": [
    "\n",
    "4. Create a 2D NumPy array with 3 rows and 3 columns filled with the value 1. Print the total number of elements (size) in the array.\n"
   ]
  },
  {
   "cell_type": "code",
   "execution_count": 13,
   "metadata": {},
   "outputs": [
    {
     "name": "stdout",
     "output_type": "stream",
     "text": [
      "[[1 1 1]\n",
      " [1 1 1]\n",
      " [1 1 1]]\n",
      "9\n"
     ]
    }
   ],
   "source": [
    "arr = np.full((3, 3), 1)\n",
    "print(arr)\n",
    "print(arr.size)"
   ]
  },
  {
   "cell_type": "markdown",
   "metadata": {},
   "source": [
    "\n",
    "5. Create a 1D NumPy array containing the numbers from 1 to 5 with the dtype 'int8'. Print the size of each element (itemsize) in the array. Try again with the dtype 'float64'. What do you notice?\n"
   ]
  },
  {
   "cell_type": "code",
   "execution_count": 17,
   "metadata": {},
   "outputs": [
    {
     "name": "stdout",
     "output_type": "stream",
     "text": [
      "[1 2 3 4 5]\n",
      "int8\n",
      "\n",
      "[1. 2. 3. 4. 5.]\n",
      "float64\n"
     ]
    }
   ],
   "source": [
    "arr = np.arange(1, 6, dtype = np.int8)\n",
    "print(arr)\n",
    "print(arr.dtype)\n",
    "print()\n",
    "arr2= np.arange(1, 6, dtype = np.float64)\n",
    "print(arr2)\n",
    "print(arr2.dtype)"
   ]
  },
  {
   "cell_type": "markdown",
   "metadata": {},
   "source": [
    "\n",
    "6. Create a 3D NumPy array with 2 matrices of 2 rows and 3 columns filled with the value 255. Print the total size (nbytes) of the array in bytes.\n"
   ]
  },
  {
   "cell_type": "code",
   "execution_count": 7,
   "metadata": {},
   "outputs": [
    {
     "name": "stdout",
     "output_type": "stream",
     "text": [
      "[[[255 255 255]\n",
      "  [255 255 255]]\n",
      "\n",
      " [[255 255 255]\n",
      "  [255 255 255]]]\n",
      "96\n"
     ]
    }
   ],
   "source": [
    "arr = np.full((2, 2, 3), 255)\n",
    "print(arr)\n",
    "print(arr.nbytes)"
   ]
  },
  {
   "cell_type": "markdown",
   "metadata": {},
   "source": [
    "\n",
    "7. Create a 2D NumPy array with 2 rows and 3 columns filled with the values [[1, 2, 3], [4, 5, 6]]. Print the transpose of the array. What is the transpose of a tranpose?\n"
   ]
  },
  {
   "cell_type": "code",
   "execution_count": 10,
   "metadata": {},
   "outputs": [
    {
     "name": "stdout",
     "output_type": "stream",
     "text": [
      "[[1 2 3]\n",
      " [4 5 6]]\n",
      "\n",
      "[[1 4]\n",
      " [2 5]\n",
      " [3 6]]\n"
     ]
    }
   ],
   "source": [
    "arr = np.arange(1, 7).reshape(2, 3)\n",
    "print(arr)\n",
    "print()\n",
    "print(arr.T)"
   ]
  },
  {
   "cell_type": "markdown",
   "metadata": {},
   "source": [
    "\n",
    "8. Create a 1D NumPy array containing the numbers from 1 to 9. Reshape the array into a 3x3 matrix and assign it to a new variable. Print the base of the new array.\n"
   ]
  },
  {
   "cell_type": "code",
   "execution_count": 11,
   "metadata": {},
   "outputs": [
    {
     "name": "stdout",
     "output_type": "stream",
     "text": [
      "[1 2 3 4 5 6 7 8 9]\n",
      "\n",
      "[[1 2 3]\n",
      " [4 5 6]\n",
      " [7 8 9]]\n",
      "[1 2 3 4 5 6 7 8 9]\n"
     ]
    }
   ],
   "source": [
    "arr = np.arange(1, 10)\n",
    "print(arr)\n",
    "arr1 = arr.reshape(3, 3)\n",
    "print()\n",
    "print(arr1)\n",
    "print(arr1.base)"
   ]
  },
  {
   "cell_type": "markdown",
   "metadata": {},
   "source": [
    "\n",
    "9. Create a 2D NumPy array with 3 rows and 4 columns filled with random float numbers between 0 and 1. Print the dtype, shape, and ndim of the array.\n"
   ]
  },
  {
   "cell_type": "code",
   "execution_count": 16,
   "metadata": {},
   "outputs": [
    {
     "name": "stdout",
     "output_type": "stream",
     "text": [
      "[[0.99454496 0.18298863 0.87248083 0.4418657 ]\n",
      " [0.91892476 0.43835326 0.49306966 0.40122561]\n",
      " [0.73773579 0.3006995  0.92452208 0.13308488]]\n",
      "float64\n",
      "2\n",
      "(3, 4)\n"
     ]
    }
   ],
   "source": [
    "arr = np.random.rand(3, 4)\n",
    "print(arr)\n",
    "print(arr.dtype)\n",
    "print(arr.ndim)\n",
    "print(arr.shape)"
   ]
  },
  {
   "cell_type": "markdown",
   "metadata": {},
   "source": [
    "\n",
    "10. Create a 3D NumPy array with 2 matrices of 2 rows and 2 columns filled with the value 10. Print the size and itemsize of the array.\n"
   ]
  },
  {
   "cell_type": "code",
   "execution_count": 20,
   "metadata": {},
   "outputs": [
    {
     "name": "stdout",
     "output_type": "stream",
     "text": [
      "[[[10 10]\n",
      "  [10 10]]\n",
      "\n",
      " [[10 10]\n",
      "  [10 10]]]\n",
      "8\n",
      "8\n"
     ]
    }
   ],
   "source": [
    "arr = np.full((2, 2, 2), 10)\n",
    "print(arr)\n",
    "print(arr.size)\n",
    "print(arr.itemsize)"
   ]
  },
  {
   "cell_type": "markdown",
   "metadata": {},
   "source": [
    "\n",
    "11. Create a 1D NumPy array containing the numbers from 1 to 6. Reshape the array into a 2x3 matrix and assign it to a new variable. Print the nbytes of both the original and the new array.\n"
   ]
  },
  {
   "cell_type": "code",
   "execution_count": 28,
   "metadata": {},
   "outputs": [
    {
     "name": "stdout",
     "output_type": "stream",
     "text": [
      "[1 2 3 4 5 6]\n",
      "\n",
      "[[1 2 3]\n",
      " [4 5 6]]\n",
      "nbytes of arr 48\n",
      "nbytes of arr1 48\n"
     ]
    }
   ],
   "source": [
    "arr = np.arange(1, 7)\n",
    "print(arr)\n",
    "print()\n",
    "arr1 = arr.reshape(2, 3)\n",
    "print(arr1)\n",
    "print(f\"nbytes of arr {arr.nbytes}\")\n",
    "print(f\"nbytes of arr1 {arr1.nbytes}\")"
   ]
  },
  {
   "cell_type": "markdown",
   "metadata": {},
   "source": [
    "\n",
    "12. Create a 2D NumPy array with 4 rows and 4 columns filled with the value 1. Use advanced indexing to create a new array containing only the 2nd and 4th rows of the original array. Print the base of the new array. \n",
    " \n",
    "We have one example of advanced indexing in the material see if you can extrapolate.\n"
   ]
  },
  {
   "cell_type": "code",
   "execution_count": 44,
   "metadata": {},
   "outputs": [
    {
     "name": "stdout",
     "output_type": "stream",
     "text": [
      "[[1. 1. 1. 1.]\n",
      " [1. 1. 1. 1.]\n",
      " [1. 1. 1. 1.]\n",
      " [1. 1. 1. 1.]]\n",
      "\n",
      "[[1. 1. 1. 1.]\n",
      " [1. 1. 1. 1.]]\n"
     ]
    }
   ],
   "source": [
    "arr = np.ones((4, 4))\n",
    "print(arr)\n",
    "arr1 = arr[[1 , 3]]\n",
    "print()\n",
    "print(arr1)"
   ]
  },
  {
   "cell_type": "markdown",
   "metadata": {},
   "source": [
    "\n",
    "13. Create a 1D NumPy array containing the numbers from 1 to 12. Reshape the array into a 3x4 matrix. Print the shape and ndim of the new array.\n"
   ]
  },
  {
   "cell_type": "code",
   "execution_count": 45,
   "metadata": {},
   "outputs": [
    {
     "name": "stdout",
     "output_type": "stream",
     "text": [
      "[ 1  2  3  4  5  6  7  8  9 10 11 12]\n",
      "\n",
      "[[ 1  2  3  4]\n",
      " [ 5  6  7  8]\n",
      " [ 9 10 11 12]]\n",
      "\n",
      "2\n",
      "\n",
      "(3, 4)\n"
     ]
    }
   ],
   "source": [
    "arr = np.arange(1, 13)\n",
    "print(arr)\n",
    "print()\n",
    "arr1 = arr.reshape(3, 4)\n",
    "print(arr1)\n",
    "print()\n",
    "print(arr1.ndim)\n",
    "print()\n",
    "print(arr1.shape)"
   ]
  },
  {
   "cell_type": "markdown",
   "metadata": {},
   "source": [
    "\n",
    "14. Create a 2D NumPy array with 3 rows and 3 columns filled with random integers between 1 and 100. Print the dtype, itemsize, and nbytes of the array.\n"
   ]
  },
  {
   "cell_type": "code",
   "execution_count": 50,
   "metadata": {},
   "outputs": [
    {
     "name": "stdout",
     "output_type": "stream",
     "text": [
      "[[90 50  7]\n",
      " [75 37 71]\n",
      " [78 96 55]]\n",
      "8\n",
      "72\n"
     ]
    }
   ],
   "source": [
    "arr = np.random.randint(1, 101, size = (3, 3))\n",
    "print(arr)\n",
    "\n",
    "print(arr.itemsize)\n",
    "print(arr.nbytes)"
   ]
  },
  {
   "cell_type": "markdown",
   "metadata": {},
   "source": [
    "\n",
    "15. Create a 3D NumPy array with 2 matrices of 3 rows and 3 columns filled with the value 5. Transpose the array and print the shape of the transposed array. Can you predict the transpose shape correctly?"
   ]
  },
  {
   "cell_type": "code",
   "execution_count": 53,
   "metadata": {},
   "outputs": [
    {
     "name": "stdout",
     "output_type": "stream",
     "text": [
      "[[[5 5 5]\n",
      "  [5 5 5]\n",
      "  [5 5 5]]\n",
      "\n",
      " [[5 5 5]\n",
      "  [5 5 5]\n",
      "  [5 5 5]]]\n",
      "\n",
      "[[[5 5]\n",
      "  [5 5]\n",
      "  [5 5]]\n",
      "\n",
      " [[5 5]\n",
      "  [5 5]\n",
      "  [5 5]]\n",
      "\n",
      " [[5 5]\n",
      "  [5 5]\n",
      "  [5 5]]]\n",
      "(3, 3, 2)\n"
     ]
    }
   ],
   "source": [
    "arr = np.full((2, 3, 3), 5)\n",
    "print(arr)\n",
    "print()\n",
    "arr1 = arr.T\n",
    "print(arr1)\n",
    "print(arr1.shape)"
   ]
  }
 ],
 "metadata": {
  "kernelspec": {
   "display_name": "Python 3 (ipykernel)",
   "language": "python",
   "name": "python3"
  },
  "language_info": {
   "codemirror_mode": {
    "name": "ipython",
    "version": 3
   },
   "file_extension": ".py",
   "mimetype": "text/x-python",
   "name": "python",
   "nbconvert_exporter": "python",
   "pygments_lexer": "ipython3",
   "version": "3.13.5"
  }
 },
 "nbformat": 4,
 "nbformat_minor": 4
}
