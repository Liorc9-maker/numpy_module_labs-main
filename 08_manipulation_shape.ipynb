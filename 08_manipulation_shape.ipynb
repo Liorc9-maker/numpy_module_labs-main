{
 "cells": [
  {
   "cell_type": "markdown",
   "metadata": {},
   "source": [
    "# 08 Exercises: Manipulating Arrays in NumPy\n",
    "**Note**: If any exercises require techniques we haven't covered yet - you should look this up! It's part of the learning process, we need to build the muscle of learning how to do things we haven't seen before.\n",
    "\n",
    "Don't be shy, ask for help on Discord!"
   ]
  },
  {
   "cell_type": "markdown",
   "metadata": {},
   "source": [
    "\n",
    "1. Create a 1D NumPy array with 12 elements and reshape it into a 3x4 matrix.\n"
   ]
  },
  {
   "cell_type": "code",
   "execution_count": 1,
   "metadata": {
    "vscode": {
     "languageId": "plaintext"
    }
   },
   "outputs": [],
   "source": [
    "import numpy as np"
   ]
  },
  {
   "cell_type": "code",
   "execution_count": 5,
   "metadata": {},
   "outputs": [
    {
     "name": "stdout",
     "output_type": "stream",
     "text": [
      "[ 0  1  2  3  4  5  6  7  8  9 10 11]\n",
      "[[ 0  1  2  3]\n",
      " [ 4  5  6  7]\n",
      " [ 8  9 10 11]]\n"
     ]
    }
   ],
   "source": [
    "arr1 = np.arange(12)\n",
    "print(arr1)\n",
    "arr1 = arr1.reshape(3, 4)\n",
    "print(arr1)"
   ]
  },
  {
   "cell_type": "markdown",
   "metadata": {},
   "source": [
    "\n",
    "2. Create a 1D NumPy array with 20 elements and reshape it into a 4x5 matrix.\n"
   ]
  },
  {
   "cell_type": "code",
   "execution_count": 6,
   "metadata": {
    "vscode": {
     "languageId": "plaintext"
    }
   },
   "outputs": [
    {
     "name": "stdout",
     "output_type": "stream",
     "text": [
      "[[ 1  2  3  4  5]\n",
      " [ 6  7  8  9 10]\n",
      " [11 12 13 14 15]\n",
      " [16 17 18 19 20]]\n"
     ]
    }
   ],
   "source": [
    "arr1 = np.arange(1, 21).reshape(4, 5)\n",
    "print(arr1)"
   ]
  },
  {
   "cell_type": "markdown",
   "metadata": {},
   "source": [
    "\n",
    "3. Create a 1D NumPy array with 30 elements and reshape it into a 3D array with dimensions 2x3x5.\n"
   ]
  },
  {
   "cell_type": "code",
   "execution_count": 7,
   "metadata": {
    "vscode": {
     "languageId": "plaintext"
    }
   },
   "outputs": [
    {
     "name": "stdout",
     "output_type": "stream",
     "text": [
      "[[[ 1  2  3  4  5]\n",
      "  [ 6  7  8  9 10]\n",
      "  [11 12 13 14 15]]\n",
      "\n",
      " [[16 17 18 19 20]\n",
      "  [21 22 23 24 25]\n",
      "  [26 27 28 29 30]]]\n"
     ]
    }
   ],
   "source": [
    "arr1 = np.arange(1, 31).reshape(2, 3, 5)\n",
    "print(arr1)"
   ]
  },
  {
   "cell_type": "markdown",
   "metadata": {},
   "source": [
    "\n",
    "4. Create a 2D NumPy array with dimensions 4x6 and flatten it into a 1D array using `flatten()`.\n"
   ]
  },
  {
   "cell_type": "code",
   "execution_count": 10,
   "metadata": {
    "vscode": {
     "languageId": "plaintext"
    }
   },
   "outputs": [
    {
     "name": "stdout",
     "output_type": "stream",
     "text": [
      "[[ 1  2  3  4  5  6]\n",
      " [ 7  8  9 10 11 12]\n",
      " [13 14 15 16 17 18]\n",
      " [19 20 21 22 23 24]]\n",
      "\n",
      "[ 1  2  3  4  5  6  7  8  9 10 11 12 13 14 15 16 17 18 19 20 21 22 23 24]\n"
     ]
    }
   ],
   "source": [
    "arr1 = np.arange(1, 25).reshape(4, 6)\n",
    "print(arr1)\n",
    "print()\n",
    "flat = arr1.flatten()\n",
    "print(flat)"
   ]
  },
  {
   "cell_type": "markdown",
   "metadata": {},
   "source": [
    "\n",
    "5. Create a 2D NumPy array with dimensions 5x5 and flatten it into a 1D array using `ravel()`.\n"
   ]
  },
  {
   "cell_type": "code",
   "execution_count": 12,
   "metadata": {
    "vscode": {
     "languageId": "plaintext"
    }
   },
   "outputs": [
    {
     "name": "stdout",
     "output_type": "stream",
     "text": [
      "[[ 1  2  3  4  5]\n",
      " [ 6  7  8  9 10]\n",
      " [11 12 13 14 15]\n",
      " [16 17 18 19 20]\n",
      " [21 22 23 24 25]]\n",
      "\n",
      "[ 1  2  3  4  5  6  7  8  9 10 11 12 13 14 15 16 17 18 19 20 21 22 23 24\n",
      " 25]\n"
     ]
    }
   ],
   "source": [
    "arr1 = np.arange(1, 26).reshape(5, 5)\n",
    "print(arr1)\n",
    "print()\n",
    "flat = arr1.ravel()\n",
    "print(flat)"
   ]
  },
  {
   "cell_type": "markdown",
   "metadata": {},
   "source": [
    "\n",
    "6. Create a 3D NumPy array with dimensions 2x3x4 and flatten it into a 1D array using `reshape(-1)`.\n"
   ]
  },
  {
   "cell_type": "code",
   "execution_count": 14,
   "metadata": {
    "vscode": {
     "languageId": "plaintext"
    }
   },
   "outputs": [
    {
     "name": "stdout",
     "output_type": "stream",
     "text": [
      "[[[ 1  2  3  4]\n",
      "  [ 5  6  7  8]\n",
      "  [ 9 10 11 12]]\n",
      "\n",
      " [[13 14 15 16]\n",
      "  [17 18 19 20]\n",
      "  [21 22 23 24]]]\n",
      "\n",
      "[ 1  2  3  4  5  6  7  8  9 10 11 12 13 14 15 16 17 18 19 20 21 22 23 24]\n"
     ]
    }
   ],
   "source": [
    "arr1 = np.arange(1, 25).reshape(2, 3, 4)\n",
    "print(arr1)\n",
    "flat = arr1.reshape(-1)\n",
    "print()\n",
    "print(flat)"
   ]
  },
  {
   "cell_type": "markdown",
   "metadata": {},
   "source": [
    "\n",
    "7. Create a 1D NumPy array with 10 elements and add a new axis to create a column vector using `np.newaxis`.\n"
   ]
  },
  {
   "cell_type": "code",
   "execution_count": 20,
   "metadata": {
    "vscode": {
     "languageId": "plaintext"
    }
   },
   "outputs": [
    {
     "name": "stdout",
     "output_type": "stream",
     "text": [
      "[0 1 2 3 4 5 6 7 8 9]\n",
      "\n",
      "[[0]\n",
      " [1]\n",
      " [2]\n",
      " [3]\n",
      " [4]\n",
      " [5]\n",
      " [6]\n",
      " [7]\n",
      " [8]\n",
      " [9]]\n"
     ]
    }
   ],
   "source": [
    "arr1 = np.arange(10)\n",
    "print(arr1)\n",
    "print()\n",
    "arr2 = arr1[:,np.newaxis]\n",
    "print(arr2)"
   ]
  },
  {
   "cell_type": "markdown",
   "metadata": {},
   "source": [
    "\n",
    "8. Create a 1D NumPy array with 10 elements and add a new axis to create a row vector using `np.expand_dims`.\n"
   ]
  },
  {
   "cell_type": "code",
   "execution_count": 25,
   "metadata": {
    "vscode": {
     "languageId": "plaintext"
    }
   },
   "outputs": [
    {
     "name": "stdout",
     "output_type": "stream",
     "text": [
      "[0 1 2 3 4 5 6 7 8 9]\n",
      "(10,)\n",
      "[[0 1 2 3 4 5 6 7 8 9]]\n",
      "(1, 10)\n"
     ]
    }
   ],
   "source": [
    "arr1 = np.arange(10)\n",
    "print(arr1)\n",
    "print(arr1.shape)\n",
    "arr2 = np.expand_dims(arr1, axis = 0)\n",
    "print(arr2)\n",
    "print(arr2.shape)"
   ]
  },
  {
   "cell_type": "markdown",
   "metadata": {},
   "source": [
    "\n",
    "9. Create a 2D NumPy array with dimensions 3x4 and add a new axis to create a 3D array with dimensions 1x3x4 using `np.newaxis`.\n"
   ]
  },
  {
   "cell_type": "code",
   "execution_count": 7,
   "metadata": {
    "vscode": {
     "languageId": "plaintext"
    }
   },
   "outputs": [
    {
     "name": "stdout",
     "output_type": "stream",
     "text": [
      "Original array\n",
      "[[ 1  2  3  4]\n",
      " [ 5  6  7  8]\n",
      " [ 9 10 11 12]]\n",
      "\n",
      "Shape: (3, 4)\n",
      "\n",
      "3D array\n",
      "[[[ 1  2  3  4]\n",
      "  [ 5  6  7  8]\n",
      "  [ 9 10 11 12]]]\n",
      "\n",
      "Shape: (1, 3, 4)\n"
     ]
    }
   ],
   "source": [
    "arr = np.arange(1, 13).reshape(3, 4)\n",
    "print(f\"Original array\\n{arr}\\n\\nShape: {arr.shape}\\n\")\n",
    "arr1 = arr[np.newaxis,:,:]\n",
    "print(f\"3D array\\n{arr1}\\n\\nShape: {arr1.shape}\")"
   ]
  },
  {
   "cell_type": "markdown",
   "metadata": {},
   "source": [
    "\n",
    "10. Create two 1D NumPy arrays with 5 elements each and stack them vertically using `np.vstack()`.\n"
   ]
  },
  {
   "cell_type": "code",
   "execution_count": 13,
   "metadata": {
    "vscode": {
     "languageId": "plaintext"
    }
   },
   "outputs": [
    {
     "name": "stdout",
     "output_type": "stream",
     "text": [
      "First aray\n",
      "[1 2 3 4 5]\n",
      "\n",
      "Second array\n",
      "[ 6  7  8  9 10]\n",
      "\n",
      "Stacked array\n",
      "[[ 1  2  3  4  5]\n",
      " [ 6  7  8  9 10]]\n",
      "Shape: (2, 5)\n"
     ]
    }
   ],
   "source": [
    "arr1 = np.arange(1, 6)\n",
    "arr2 = np.arange(6, 11)\n",
    "print(f\"First aray\\n{arr1}\\n\\nSecond array\\n{arr2}\\n\")\n",
    "arr3 = np.vstack((arr1, arr2))\n",
    "print(f\"Stacked array\\n{arr3}\\nShape: {arr3.shape}\")"
   ]
  },
  {
   "cell_type": "markdown",
   "metadata": {},
   "source": [
    "\n",
    "11. Create two 1D NumPy arrays with 5 elements each and stack them horizontally using `np.hstack()`.\n"
   ]
  },
  {
   "cell_type": "code",
   "execution_count": 14,
   "metadata": {
    "vscode": {
     "languageId": "plaintext"
    }
   },
   "outputs": [
    {
     "name": "stdout",
     "output_type": "stream",
     "text": [
      "First aray\n",
      "[1 2 3 4 5]\n",
      "\n",
      "Second array\n",
      "[ 6  7  8  9 10]\n",
      "\n",
      "Stacked array\n",
      "[ 1  2  3  4  5  6  7  8  9 10]\n",
      "Shape: (10,)\n"
     ]
    }
   ],
   "source": [
    "arr1 = np.arange(1, 6)\n",
    "arr2 = np.arange(6, 11)\n",
    "print(f\"First aray\\n{arr1}\\n\\nSecond array\\n{arr2}\\n\")\n",
    "arr3 = np.hstack((arr1, arr2))\n",
    "print(f\"Stacked array\\n{arr3}\\nShape: {arr3.shape}\")"
   ]
  },
  {
   "cell_type": "markdown",
   "metadata": {},
   "source": [
    "\n",
    "12. Create two 2D NumPy arrays with dimensions 2x3 and concatenate them vertically using `np.concatenate()`.\n"
   ]
  },
  {
   "cell_type": "code",
   "execution_count": 16,
   "metadata": {
    "vscode": {
     "languageId": "plaintext"
    }
   },
   "outputs": [
    {
     "name": "stdout",
     "output_type": "stream",
     "text": [
      "First aray\n",
      "[[1 2 3]\n",
      " [4 5 6]]\n",
      "\n",
      "Second array\n",
      "[[ 7  8  9]\n",
      " [10 11 12]]\n",
      "\n",
      "Stacked array\n",
      "[[ 1  2  3]\n",
      " [ 4  5  6]\n",
      " [ 7  8  9]\n",
      " [10 11 12]]\n",
      "Shape: (4, 3)\n"
     ]
    }
   ],
   "source": [
    "arr1 = np.arange(1, 7).reshape(2, 3)\n",
    "arr2 = np.arange(7, 13).reshape(2, 3)\n",
    "print(f\"First aray\\n{arr1}\\n\\nSecond array\\n{arr2}\\n\")\n",
    "arr3 = np.concatenate((arr1, arr2), axis = 0)\n",
    "print(f\"Stacked array\\n{arr3}\\nShape: {arr3.shape}\")"
   ]
  },
  {
   "cell_type": "markdown",
   "metadata": {},
   "source": [
    "\n",
    "13. Create two 2D NumPy arrays with dimensions 2x3 and concatenate them horizontally using `np.concatenate()`.\n"
   ]
  },
  {
   "cell_type": "code",
   "execution_count": 17,
   "metadata": {
    "vscode": {
     "languageId": "plaintext"
    }
   },
   "outputs": [
    {
     "name": "stdout",
     "output_type": "stream",
     "text": [
      "First aray\n",
      "[[1 2 3]\n",
      " [4 5 6]]\n",
      "\n",
      "Second array\n",
      "[[ 7  8  9]\n",
      " [10 11 12]]\n",
      "\n",
      "Stacked array\n",
      "[[ 1  2  3  7  8  9]\n",
      " [ 4  5  6 10 11 12]]\n",
      "Shape: (2, 6)\n"
     ]
    }
   ],
   "source": [
    "arr1 = np.arange(1, 7).reshape(2, 3)\n",
    "arr2 = np.arange(7, 13).reshape(2, 3)\n",
    "print(f\"First aray\\n{arr1}\\n\\nSecond array\\n{arr2}\\n\")\n",
    "arr3 = np.concatenate((arr1, arr2), axis = 1)\n",
    "print(f\"Stacked array\\n{arr3}\\nShape: {arr3.shape}\")"
   ]
  },
  {
   "cell_type": "markdown",
   "metadata": {},
   "source": [
    "\n",
    "14. Create a 3D NumPy array with dimensions 2x3x4 and remove all the single-dimensional entries using `np.squeeze()`.\n"
   ]
  },
  {
   "cell_type": "code",
   "execution_count": 19,
   "metadata": {
    "vscode": {
     "languageId": "plaintext"
    }
   },
   "outputs": [
    {
     "name": "stdout",
     "output_type": "stream",
     "text": [
      "Original array\n",
      "[[[ 1  2  3  4]\n",
      "  [ 5  6  7  8]\n",
      "  [ 9 10 11 12]]\n",
      "\n",
      " [[13 14 15 16]\n",
      "  [17 18 19 20]\n",
      "  [21 22 23 24]]]\n",
      "\n",
      "Shape: (2, 3, 4)\n",
      "\n",
      "Squeezed array\n",
      "[[[ 1  2  3  4]\n",
      "  [ 5  6  7  8]\n",
      "  [ 9 10 11 12]]\n",
      "\n",
      " [[13 14 15 16]\n",
      "  [17 18 19 20]\n",
      "  [21 22 23 24]]]\n",
      "\n",
      "Shape: (2, 3, 4)\n"
     ]
    }
   ],
   "source": [
    "arr1 = np.arange(1, 25).reshape(2, 3, 4)\n",
    "print(f\"Original array\\n{arr1}\\n\\nShape: {arr1.shape}\\n\")\n",
    "arr2 = np.squeeze(arr1)\n",
    "print(f\"Squeezed array\\n{arr2}\\n\\nShape: {arr2.shape}\")"
   ]
  },
  {
   "cell_type": "markdown",
   "metadata": {},
   "source": [
    "\n",
    "15. Create a 2D NumPy array with dimensions 4x4 and reshape it into a 1D array. Then, add two new axes to create a 16x1x1 array using `np.expand_dims()`."
   ]
  },
  {
   "cell_type": "code",
   "execution_count": 33,
   "metadata": {
    "vscode": {
     "languageId": "plaintext"
    }
   },
   "outputs": [
    {
     "name": "stdout",
     "output_type": "stream",
     "text": [
      "Original array\n",
      "[[ 1  2  3  4]\n",
      " [ 5  6  7  8]\n",
      " [ 9 10 11 12]\n",
      " [13 14 15 16]]\n",
      "\n",
      "Shape: (4, 4)\n",
      "\n",
      "Squeezed array\n",
      "[ 1  2  3  4  5  6  7  8  9 10 11 12 13 14 15 16]\n",
      "\n",
      "Shape: (16,)\n",
      "Expanded array\n",
      "[[[ 1]]\n",
      "\n",
      " [[ 2]]\n",
      "\n",
      " [[ 3]]\n",
      "\n",
      " [[ 4]]\n",
      "\n",
      " [[ 5]]\n",
      "\n",
      " [[ 6]]\n",
      "\n",
      " [[ 7]]\n",
      "\n",
      " [[ 8]]\n",
      "\n",
      " [[ 9]]\n",
      "\n",
      " [[10]]\n",
      "\n",
      " [[11]]\n",
      "\n",
      " [[12]]\n",
      "\n",
      " [[13]]\n",
      "\n",
      " [[14]]\n",
      "\n",
      " [[15]]\n",
      "\n",
      " [[16]]]\n",
      "\n",
      "Shape: (16, 1, 1)\n"
     ]
    }
   ],
   "source": [
    "arr1 = np.arange(1, 17).reshape(4, 4)\n",
    "print(f\"Original array\\n{arr1}\\n\\nShape: {arr1.shape}\\n\")\n",
    "arr2 = arr1.reshape(-1)\n",
    "print(f\"Squeezed array\\n{arr2}\\n\\nShape: {arr2.shape}\")\n",
    "arr3 = np.expand_dims(arr2, axis = (2,1))\n",
    "print(f\"Expanded array\\n{arr3}\\n\\nShape: {arr3.shape}\")"
   ]
  }
 ],
 "metadata": {
  "kernelspec": {
   "display_name": "Python 3 (ipykernel)",
   "language": "python",
   "name": "python3"
  },
  "language_info": {
   "codemirror_mode": {
    "name": "ipython",
    "version": 3
   },
   "file_extension": ".py",
   "mimetype": "text/x-python",
   "name": "python",
   "nbconvert_exporter": "python",
   "pygments_lexer": "ipython3",
   "version": "3.13.5"
  }
 },
 "nbformat": 4,
 "nbformat_minor": 4
}
