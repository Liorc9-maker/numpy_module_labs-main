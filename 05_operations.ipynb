{
 "cells": [
  {
   "cell_type": "markdown",
   "metadata": {},
   "source": [
    "\n",
    "# NumPy Exercises for Operations\n",
    "\n",
    "**Note**: If any exercises require techniques we haven't covered yet - you should look this up! It's part of the learning process, we need to build the muscle of learning how to do things we haven't seen before.\n",
    "\n",
    "Don't be shy, ask for help on Discord!\n",
    "\n",
    "1. Create two 1D NumPy arrays with 5 elements each, filled with random integers between 1 and 10. Perform element-wise addition, subtraction, multiplication, and division on these arrays.\n"
   ]
  },
  {
   "cell_type": "code",
   "execution_count": 1,
   "metadata": {},
   "outputs": [],
   "source": [
    "import numpy as np"
   ]
  },
  {
   "cell_type": "code",
   "execution_count": 43,
   "metadata": {
    "vscode": {
     "languageId": "plaintext"
    }
   },
   "outputs": [
    {
     "name": "stdout",
     "output_type": "stream",
     "text": [
      "first array\n",
      "[1 4 2 8 2]\n",
      "second array\n",
      "[10  2  1  6  3]\n",
      "\n",
      "Addition by 1 [2 5 3 9 3] [11  3  2  7  4]\n",
      "substraction by 1 [0 3 1 7 1] [9 1 0 5 2]\n",
      "Multiplication by 2 [ 2  8  4 16  4] [12  4  3  8  5]\n",
      "Division by 2 [0.5 2.  1.  4.  1. ] [5.  1.  0.5 3.  1.5]\n"
     ]
    }
   ],
   "source": [
    "arr = np.random.randint(1, 11, size = 5)\n",
    "arr1 = np.random.randint(1, 11, size = 5)\n",
    "print(f\"first array\\n{arr}\\nsecond array\\n{arr1}\\n\")\n",
    "print(f\"Addition by 1 {arr + 1} {arr1 + 1}\")\n",
    "print(f\"substraction by 1 {arr - 1} {arr1 - 1}\")\n",
    "print(f\"Multiplication by 2 {arr * 2} {arr1 + 2}\")\n",
    "print(f\"Division by 2 {arr / 2} {arr1 / 2}\")"
   ]
  },
  {
   "cell_type": "markdown",
   "metadata": {},
   "source": [
    "\n",
    "2. Create a 2D NumPy array with 3 rows and 4 columns, filled with random floats between 0 and 1. Multiply each element in the array by 10 and then subtract 5 from each element.\n"
   ]
  },
  {
   "cell_type": "code",
   "execution_count": 51,
   "metadata": {
    "vscode": {
     "languageId": "plaintext"
    }
   },
   "outputs": [
    {
     "name": "stdout",
     "output_type": "stream",
     "text": [
      "Original array \n",
      "[[0.95107874 0.09170516 0.53754456 0.1358674 ]\n",
      " [0.53226325 0.54290823 0.30620604 0.69085023]\n",
      " [0.88239029 0.26831645 0.09915956 0.90635723]]\n",
      "\n",
      "Transformed array \n",
      "[[ 4.51078735 -4.08294838  0.37544556 -3.64132601]\n",
      " [ 0.32263255  0.4290823  -1.93793956  1.90850233]\n",
      " [ 3.82390295 -2.31683554 -4.00840445  4.06357233]]\n"
     ]
    }
   ],
   "source": [
    "arr = np.random.rand(3, 4)\n",
    "print(f\"Original array \\n{arr}\\n\")\n",
    "result = arr * 10 - 5\n",
    "print(f\"Transformed array \\n{result}\")"
   ]
  },
  {
   "cell_type": "markdown",
   "metadata": {},
   "source": [
    "\n",
    "3. Create two 2D NumPy arrays with 2 rows and 3 columns each, filled with random integers between 1 and 5. Perform matrix multiplication on these arrays using the `@` operator.\n"
   ]
  },
  {
   "cell_type": "code",
   "execution_count": 57,
   "metadata": {
    "vscode": {
     "languageId": "plaintext"
    }
   },
   "outputs": [
    {
     "name": "stdout",
     "output_type": "stream",
     "text": [
      "First array \n",
      "[[3 5 2]\n",
      " [1 5 2]]\n",
      "\n",
      "Second array \n",
      "[[2 4 2]\n",
      " [3 1 1]]\n",
      "\n",
      "After matrix multiplication \n",
      "[[30 16]\n",
      " [26 10]]\n"
     ]
    }
   ],
   "source": [
    "arr = np.random.randint(1, 6, size = (2, 3))\n",
    "arr1 = np.random.randint(1, 6, size = (2, 3))\n",
    "print(f\"First array \\n{arr}\\n\")\n",
    "print(f\"Second array \\n{arr1}\\n\")\n",
    "\n",
    "result = arr @ arr1.T\n",
    "print(f\"After matrix multiplication \\n{result}\")"
   ]
  },
  {
   "cell_type": "markdown",
   "metadata": {},
   "source": [
    "\n",
    "4. Create a 2D NumPy array with 4 rows and 4 columns, filled with random integers between 1 and 10. Calculate the sum, mean, and standard deviation of all elements in the array.\n"
   ]
  },
  {
   "cell_type": "code",
   "execution_count": 59,
   "metadata": {
    "vscode": {
     "languageId": "plaintext"
    }
   },
   "outputs": [
    {
     "name": "stdout",
     "output_type": "stream",
     "text": [
      "Original array\n",
      "[[ 4  9 10  7]\n",
      " [ 2  6  8  7]\n",
      " [ 7  6  9  6]\n",
      " [ 5  4  2  4]]\n",
      "\n",
      "Sum of all elements: 96\n",
      "Mean of all elements: 6.0\n",
      "Standard deviation of all elements: 2.318404623873926\n"
     ]
    }
   ],
   "source": [
    "arr = np.random.randint(1, 11, size = (4, 4))\n",
    "print(f\"Original array\\n{arr}\\n\")\n",
    "total_sum = arr.sum()\n",
    "mean_val = arr.mean()\n",
    "std_val = arr.std()\n",
    "\n",
    "print(\"Sum of all elements:\", total_sum)\n",
    "print(\"Mean of all elements:\", mean_val)\n",
    "print(\"Standard deviation of all elements:\", std_val)"
   ]
  },
  {
   "cell_type": "markdown",
   "metadata": {},
   "source": [
    "\n",
    "5. Using the array from exercise 4, calculate the sum, mean, and standard deviation along each row and each column.\n"
   ]
  },
  {
   "cell_type": "code",
   "execution_count": 61,
   "metadata": {
    "vscode": {
     "languageId": "plaintext"
    }
   },
   "outputs": [
    {
     "name": "stdout",
     "output_type": "stream",
     "text": [
      "[[ 4  9 10  7]\n",
      " [ 2  6  8  7]\n",
      " [ 7  6  9  6]\n",
      " [ 5  4  2  4]]\n",
      "\n",
      "Row sums: [30 23 28 15]\n",
      "Column sums: [18 25 29 24]\n",
      "\n",
      "Row means: [7.5  5.75 7.   3.75]\n",
      "Column means: [4.5  6.25 7.25 6.  ]\n",
      "\n",
      "Row stds: [2.29128785 2.27760839 1.22474487 1.08972474]\n",
      "Column stds: [1.80277564 1.78535711 3.1124749  1.22474487]\n"
     ]
    }
   ],
   "source": [
    "print(arr)\n",
    "row_sum = arr.sum(axis=1)\n",
    "col_sum = arr.sum(axis=0)\n",
    "\n",
    "row_mean = arr.mean(axis=1)\n",
    "col_mean = arr.mean(axis=0)\n",
    "\n",
    "row_std = arr.std(axis=1)\n",
    "col_std = arr.std(axis=0)\n",
    "\n",
    "print(\"\\nRow sums:\", row_sum)\n",
    "print(\"Column sums:\", col_sum)\n",
    "\n",
    "print(\"\\nRow means:\", row_mean)\n",
    "print(\"Column means:\", col_mean)\n",
    "\n",
    "print(\"\\nRow stds:\", row_std)\n",
    "print(\"Column stds:\", col_std)"
   ]
  },
  {
   "cell_type": "markdown",
   "metadata": {},
   "source": [
    "\n",
    "6. Create a 1D NumPy array with 10 elements, filled with random integers between 1 and 100. Apply the following universal functions to the array: square root, natural logarithm, and exponential.\n"
   ]
  },
  {
   "cell_type": "code",
   "execution_count": 67,
   "metadata": {
    "vscode": {
     "languageId": "plaintext"
    }
   },
   "outputs": [
    {
     "name": "stdout",
     "output_type": "stream",
     "text": [
      "Original array\n",
      "[81 85 12 50 56 51 88 96 62  8]\n",
      "\n",
      "Square root:\n",
      "[9.         9.21954446 3.46410162 7.07106781 7.48331477 7.14142843\n",
      " 9.38083152 9.79795897 7.87400787 2.82842712]\n",
      "\n",
      "Natural log:\n",
      "[4.39444915 4.44265126 2.48490665 3.91202301 4.02535169 3.93182563\n",
      " 4.47733681 4.56434819 4.12713439 2.07944154]\n",
      "\n",
      "Exponential:\n",
      "[1.50609731e+35 8.22301271e+36 1.62754791e+05 5.18470553e+21\n",
      " 2.09165950e+24 1.40934908e+22 1.65163625e+38 4.92345829e+41\n",
      " 8.43835667e+26 2.98095799e+03]\n",
      "\n"
     ]
    }
   ],
   "source": [
    "arr = np.random.randint(1, 101, size = (10))\n",
    "print(f\"Original array\\n{arr}\\n\")\n",
    "sqrt_arr = np.sqrt(arr)        \n",
    "log_arr = np.log(arr)         \n",
    "exp_arr = np.exp(arr)                                 \n",
    "print(f\"Square root:\\n{sqrt_arr}\\n\")\n",
    "print(f\"Natural log:\\n{log_arr}\\n\")\n",
    "print(f\"Exponential:\\n{exp_arr}\\n\")"
   ]
  },
  {
   "cell_type": "markdown",
   "metadata": {},
   "source": [
    "\n",
    "7. Create a 2D NumPy array with 3 rows and 3 columns, filled with random floats between -1 and 1. Apply the following universal functions to the array: absolute value, sine, and cosine.\n"
   ]
  },
  {
   "cell_type": "code",
   "execution_count": 69,
   "metadata": {
    "vscode": {
     "languageId": "plaintext"
    }
   },
   "outputs": [
    {
     "name": "stdout",
     "output_type": "stream",
     "text": [
      "Original array:\n",
      " [[ 0.11204863  0.84645974  0.90586334]\n",
      " [ 0.10536885 -0.98571261  0.50406283]\n",
      " [-0.96249907  0.22051858  0.66872909]]\n",
      "\n",
      "Absolute value:\n",
      " [[0.11204863 0.84645974 0.90586334]\n",
      " [0.10536885 0.98571261 0.50406283]\n",
      " [0.96249907 0.22051858 0.66872909]]\n",
      "\n",
      "Sine:\n",
      " [[ 0.11181432  0.74893919  0.78695814]\n",
      " [ 0.10517398 -0.83366586  0.48298704]\n",
      " [-0.82062228  0.21873568  0.61998932]]\n",
      "\n",
      "Cosine:\n",
      " [[0.99372912 0.66263873 0.61700639]\n",
      " [0.99445384 0.55226918 0.8756275 ]\n",
      " [0.57147098 0.97578415 0.78461025]]\n"
     ]
    }
   ],
   "source": [
    "arr = np.random.uniform(-1, 1, size=(3, 3))\n",
    "print(\"Original array:\\n\", arr)\n",
    "\n",
    "abs_arr = np.abs(arr)     \n",
    "sin_arr = np.sin(arr)      \n",
    "cos_arr = np.cos(arr)\n",
    "\n",
    "print(\"\\nAbsolute value:\\n\", abs_arr)\n",
    "print(\"\\nSine:\\n\", sin_arr)\n",
    "print(\"\\nCosine:\\n\", cos_arr)"
   ]
  },
  {
   "cell_type": "markdown",
   "metadata": {},
   "source": [
    "\n",
    "8. Create two 1D NumPy arrays with 6 elements each, filled with random integers between 1 and 10. Perform element-wise comparison operations on these arrays: greater than, less than, and equal to.\n"
   ]
  },
  {
   "cell_type": "code",
   "execution_count": 75,
   "metadata": {
    "vscode": {
     "languageId": "plaintext"
    }
   },
   "outputs": [
    {
     "name": "stdout",
     "output_type": "stream",
     "text": [
      "First array\n",
      "[ 9  1  2 10  9  9]\n",
      "\n",
      "Second array\n",
      "[8 5 2 6 1 9]\n",
      "\n",
      "Greater than (arr > arr1) [ True False False  True  True False]\n",
      "Less than (arr < arr1) [False  True False False False False]\n",
      "Equal to (arr = arr1) [False False  True False False  True]\n"
     ]
    }
   ],
   "source": [
    "arr = np.random.randint(1, 11, size = 6)\n",
    "arr1 = np.random.randint(1, 11, size = 6)\n",
    "print(f\"First array\\n{arr}\\n\")\n",
    "print(f\"Second array\\n{arr1}\\n\")\n",
    "print(f\"Greater than (arr > arr1) {arr > arr1}\")\n",
    "print(f\"Less than (arr < arr1) {arr < arr1}\")\n",
    "print(f\"Equal to (arr = arr1) {arr == arr1}\")"
   ]
  },
  {
   "cell_type": "markdown",
   "metadata": {},
   "source": [
    "\n",
    "9. Create a 2D NumPy array with 5 rows and 5 columns, filled with random integers between 1 and 100. Find the maximum and minimum values in the array along each row and each column.\n"
   ]
  },
  {
   "cell_type": "code",
   "execution_count": 76,
   "metadata": {
    "vscode": {
     "languageId": "plaintext"
    }
   },
   "outputs": [
    {
     "name": "stdout",
     "output_type": "stream",
     "text": [
      "Array:\n",
      " [[10 42 40 38 22]\n",
      " [91 69 54 89  2]\n",
      " [13 15 68 91 54]\n",
      " [57 33 43 16 72]\n",
      " [58 58 93 39 76]] \n",
      "\n",
      "Maximum along each row: [42 91 91 72 93]\n",
      "Minimum along each row: [10  2 13 16 39]\n",
      "Maximum along each column: [91 69 93 91 76]\n",
      "Minimum along each column: [10 15 40 16  2]\n"
     ]
    }
   ],
   "source": [
    "arr = np.random.randint(1, 101, size = (5, 5))\n",
    "print(\"Array:\\n\", arr, \"\\n\")\n",
    "\n",
    "print(\"Maximum along each row:\", np.max(arr, axis=1))\n",
    "print(\"Minimum along each row:\", np.min(arr, axis=1))\n",
    "\n",
    "print(\"Maximum along each column:\", np.max(arr, axis=0))\n",
    "print(\"Minimum along each column:\", np.min(arr, axis=0))"
   ]
  },
  {
   "cell_type": "markdown",
   "metadata": {},
   "source": [
    "\n",
    "10. Create a 1D NumPy array with 8 elements, filled with random integers between 1 and 20. Calculate the dot product of this array with itself.\n"
   ]
  },
  {
   "cell_type": "code",
   "execution_count": 80,
   "metadata": {
    "vscode": {
     "languageId": "plaintext"
    }
   },
   "outputs": [
    {
     "name": "stdout",
     "output_type": "stream",
     "text": [
      "Array\n",
      " [12 18  8 15  4 13  7  5]\n",
      "Dot product of arr with itself: 1016\n"
     ]
    }
   ],
   "source": [
    "arr = np.random.randint(1 ,20, size = 8)\n",
    "print(\"Array\\n\",arr)\n",
    "dot_product = np.dot(arr, arr)\n",
    "print(\"Dot product of arr with itself:\", dot_product)"
   ]
  },
  {
   "cell_type": "markdown",
   "metadata": {},
   "source": [
    "\n",
    "11. Create a 2D NumPy array with 4 rows and 4 columns, filled with random floats between 0 and 1. Apply the following universal functions to the array: ceil, floor, and round.\n"
   ]
  },
  {
   "cell_type": "code",
   "execution_count": 89,
   "metadata": {
    "vscode": {
     "languageId": "plaintext"
    }
   },
   "outputs": [
    {
     "name": "stdout",
     "output_type": "stream",
     "text": [
      "Original array\n",
      " [[0.48560092 0.74913636 0.38807745 0.9416981 ]\n",
      " [0.02061195 0.43207567 0.50192966 0.3333049 ]\n",
      " [0.64212597 0.21459321 0.01591913 0.17970813]\n",
      " [0.51097485 0.02902659 0.58767206 0.71432231]]\n",
      "\n",
      "Array ceiling\n",
      "[[1. 1. 1. 1.]\n",
      " [1. 1. 1. 1.]\n",
      " [1. 1. 1. 1.]\n",
      " [1. 1. 1. 1.]]\n",
      "\n",
      "Array floor\n",
      "[[0. 0. 0. 0.]\n",
      " [0. 0. 0. 0.]\n",
      " [0. 0. 0. 0.]\n",
      " [0. 0. 0. 0.]]\n",
      "\n",
      "Array round\n",
      "[[0. 1. 0. 1.]\n",
      " [0. 0. 1. 0.]\n",
      " [1. 0. 0. 0.]\n",
      " [1. 0. 1. 1.]]\n"
     ]
    }
   ],
   "source": [
    "arr = np.random.rand(4, 4)\n",
    "print(\"Original array\\n\",arr)\n",
    "ceil = np.ceil(arr)\n",
    "floor = np.floor(arr)\n",
    "round_arr = np.round(arr)\n",
    "\n",
    "print(f\"\\nArray ceiling\\n{ceil}\\n\")\n",
    "print(f\"Array floor\\n{floor}\\n\")\n",
    "print(f\"Array round\\n{round_arr}\")"
   ]
  },
  {
   "cell_type": "markdown",
   "metadata": {},
   "source": [
    "\n",
    "12. Create two 2D NumPy arrays with 3 rows and 3 columns each, filled with random integers between 1 and 10. Perform element-wise addition, subtraction, multiplication, and division on these arrays.\n"
   ]
  },
  {
   "cell_type": "code",
   "execution_count": 97,
   "metadata": {
    "vscode": {
     "languageId": "plaintext"
    }
   },
   "outputs": [
    {
     "name": "stdout",
     "output_type": "stream",
     "text": [
      "First array\n",
      "[[8 3 7]\n",
      " [2 7 7]\n",
      " [7 1 5]]\n",
      "\n",
      "Second array\n",
      "[[7 3 5]\n",
      " [3 5 2]\n",
      " [3 7 8]]\n",
      "\n",
      "Addition\n",
      "[[15  6 12]\n",
      " [ 5 12  9]\n",
      " [10  8 13]]\n",
      "\n",
      "Substraction\n",
      "[[ 1  0  2]\n",
      " [-1  2  5]\n",
      " [ 4 -6 -3]]\n",
      "\n",
      "Multiplication\n",
      "[[56  9 35]\n",
      " [ 6 35 14]\n",
      " [21  7 40]]\n",
      "\n",
      "Division\n",
      "[[1.14285714 1.         1.4       ]\n",
      " [0.66666667 1.4        3.5       ]\n",
      " [2.33333333 0.14285714 0.625     ]]\n",
      "\n"
     ]
    }
   ],
   "source": [
    "arr = np.random.randint(1, 10, size = (3, 3))\n",
    "arr1 = np.random.randint(1, 10, size = (3, 3))\n",
    "print(f\"First array\\n{arr}\\n\")\n",
    "print(f\"Second array\\n{arr1}\\n\")\n",
    "print(f\"Addition\\n{arr + arr1}\\n\")\n",
    "print(f\"Substraction\\n{arr - arr1}\\n\")\n",
    "print(f\"Multiplication\\n{arr * arr1}\\n\")\n",
    "print(f\"Division\\n{arr / arr1}\\n\")"
   ]
  },
  {
   "cell_type": "markdown",
   "metadata": {},
   "source": [
    "\n",
    "13. Create a 1D NumPy array with 7 elements, filled with random integers between 1 and 100. Calculate the sum of the array using a Python loop and compare the execution time with the NumPy `sum()` function using the `%%timeit` magic command.\n"
   ]
  },
  {
   "cell_type": "code",
   "execution_count": 16,
   "metadata": {
    "vscode": {
     "languageId": "plaintext"
    }
   },
   "outputs": [
    {
     "name": "stdout",
     "output_type": "stream",
     "text": [
      "Array\n",
      " [ 7 56 48 82 89 52 47]\n"
     ]
    }
   ],
   "source": [
    "arr = np.random.randint(1, 101, size = 7)\n",
    "print(\"Array\\n\",arr)   "
   ]
  },
  {
   "cell_type": "code",
   "execution_count": 23,
   "metadata": {},
   "outputs": [
    {
     "name": "stdout",
     "output_type": "stream",
     "text": [
      "Python loop sum: 381\n",
      "NumPy sum: 381\n"
     ]
    }
   ],
   "source": [
    "def python_sum(arr):\n",
    "    total = 0\n",
    "    for num in arr:\n",
    "        total += num\n",
    "    return total \n",
    "    \n",
    "print(\"Python loop sum:\", python_sum(arr))\n",
    "print(\"NumPy sum:\", np.sum(arr))"
   ]
  },
  {
   "cell_type": "code",
   "execution_count": 24,
   "metadata": {},
   "outputs": [
    {
     "name": "stdout",
     "output_type": "stream",
     "text": [
      "1.9 μs ± 307 ns per loop (mean ± std. dev. of 7 runs, 100,000 loops each)\n"
     ]
    }
   ],
   "source": [
    "%%timeit\n",
    "python_sum(arr)"
   ]
  },
  {
   "cell_type": "code",
   "execution_count": 25,
   "metadata": {},
   "outputs": [
    {
     "name": "stdout",
     "output_type": "stream",
     "text": [
      "3.44 μs ± 568 ns per loop (mean ± std. dev. of 7 runs, 100,000 loops each)\n"
     ]
    }
   ],
   "source": [
    "%%timeit\n",
    "jup_sum = np.sum(arr)"
   ]
  },
  {
   "cell_type": "markdown",
   "metadata": {},
   "source": [
    "\n",
    "14. Create a 2D NumPy array with 6 rows and 6 columns, filled with random floats between -10 and 10. Apply the following universal functions to the array: hyperbolic sine, hyperbolic cosine, and hyperbolic tangent. (Practice those look up skills!)\n"
   ]
  },
  {
   "cell_type": "code",
   "execution_count": 28,
   "metadata": {
    "vscode": {
     "languageId": "plaintext"
    }
   },
   "outputs": [
    {
     "name": "stdout",
     "output_type": "stream",
     "text": [
      "Array\n",
      " [[-1.62250331  1.07576855 -5.46555065  4.57397116 -5.96450488 -4.3099814 ]\n",
      " [ 7.40249269 -5.60580194 -9.25508211  9.23910726  0.83113381 -3.92338912]\n",
      " [ 9.13911607  2.24511737 -6.71128662 -2.1583365  -6.30180686 -0.4201544 ]\n",
      " [-3.48225368 -1.92935636 -2.76162164 -7.80066005  0.88634115  5.66393276]\n",
      " [-6.59384033  8.29990349 -7.81581839  9.76250331  6.9935847  -6.59312634]\n",
      " [ 2.38147752 -7.88723201  6.33119876 -0.43458526  0.82383934  0.02015732]]\n",
      "\n",
      "Hyperbolic Sine (sinh):\n",
      " [[-2.43417584e+00  1.29560502e+00 -1.18200884e+02  4.84589735e+01\n",
      "  -1.94678817e+02 -3.72128351e+01]\n",
      " [ 8.20033450e+02 -1.35998145e+02 -5.22878866e+03  5.14592318e+03\n",
      "   9.30182612e-01 -2.52758870e+01]\n",
      " [ 4.65626490e+03  4.66780429e+00 -4.10812934e+02 -4.27060406e+00\n",
      "  -2.72777465e+02 -4.32625590e-01]\n",
      " [-1.62511101e+01 -3.36991782e+00 -7.88114807e+00 -1.22110651e+03\n",
      "   1.00703757e+00  1.44138342e+02]\n",
      " [-3.65289896e+02  2.01174191e+03 -1.23975747e+03  8.68502998e+03\n",
      "   5.44809763e+02 -3.65029174e+02]\n",
      " [ 5.36423262e+00 -1.33153100e+03  2.80913955e+02 -4.48394638e-01\n",
      "   9.20244942e-01  2.01586821e-02]] \n",
      "\n",
      "Hyperbolic Cosine (cosh):\n",
      " [[2.63157976e+00 1.63664058e+00 1.18205114e+02 4.84692904e+01\n",
      "  1.94681385e+02 3.72262689e+01]\n",
      " [8.20034060e+02 1.36001821e+02 5.22878875e+03 5.14592328e+03\n",
      "  1.36573778e+00 2.52956609e+01]\n",
      " [4.65626500e+03 4.77371939e+00 4.10814151e+02 4.38612118e+00\n",
      "  2.72779298e+02 1.08957097e+00]\n",
      " [1.62818482e+01 3.51515948e+00 7.94433728e+00 1.22110692e+03\n",
      "  1.41919860e+00 1.44141811e+02]\n",
      " [3.65291265e+02 2.01174216e+03 1.23975787e+03 8.68503004e+03\n",
      "  5.44810681e+02 3.65030544e+02]\n",
      " [5.45664655e+00 1.33153138e+03 2.80915735e+02 1.09592780e+00\n",
      "  1.35898887e+00 1.00020317e+00]] \n",
      "\n",
      "Hyperbolic Tangent (tanh):\n",
      " [[-0.92498653  0.79162465 -0.99996421  0.99978715 -0.99998681 -0.99963913]\n",
      " [ 0.99999926 -0.99997297 -0.99999998  0.99999998  0.68108434 -0.99921829]\n",
      " [ 0.99999998  0.97781288 -0.99999704 -0.97366303 -0.99999328 -0.3970605 ]\n",
      " [-0.99811213 -0.95868135 -0.99204601 -0.99999966  0.70958185  0.99997593]\n",
      " [-0.99999625  0.99999988 -0.99999967  0.99999999  0.99999832 -0.99999625]\n",
      " [ 0.98306397 -0.99999972  0.99999366 -0.40914615  0.67715414  0.02015459]]\n"
     ]
    }
   ],
   "source": [
    "arr = np.random.uniform(-10, 10, size = (6, 6))\n",
    "print(\"Array\\n\",arr)\n",
    "print()\n",
    "sinh_arr = np.sinh(arr)\n",
    "cosh_arr = np.cosh(arr)\n",
    "tanh_arr = np.tanh(arr)\n",
    "\n",
    "print(\"Hyperbolic Sine (sinh):\\n\", sinh_arr, \"\\n\")\n",
    "print(\"Hyperbolic Cosine (cosh):\\n\", cosh_arr, \"\\n\")\n",
    "print(\"Hyperbolic Tangent (tanh):\\n\", tanh_arr)"
   ]
  },
  {
   "cell_type": "markdown",
   "metadata": {},
   "source": [
    "\n",
    "15. Create two 1D NumPy arrays with 100 elements each, filled with random floats between 0 and 1. Perform element-wise multiplication on these arrays using a Python loop and compare the execution time with the NumPy element-wise multiplication using the `%%timeit` magic command."
   ]
  },
  {
   "cell_type": "code",
   "execution_count": 29,
   "metadata": {
    "scrolled": true,
    "vscode": {
     "languageId": "plaintext"
    }
   },
   "outputs": [
    {
     "name": "stdout",
     "output_type": "stream",
     "text": [
      "First array\n",
      " [0.90191069 0.07193468 0.68673811 0.37969386 0.16250059 0.83898806\n",
      " 0.74515374 0.22598441 0.08692935 0.95463273 0.02033233 0.3375339\n",
      " 0.00857471 0.36761695 0.19720209 0.80173072 0.14690297 0.86964697\n",
      " 0.90614342 0.58892834 0.95537156 0.18488608 0.79899513 0.24914494\n",
      " 0.68888879 0.98973553 0.44633052 0.98917185 0.88422888 0.52200117\n",
      " 0.17392614 0.8270186  0.18949157 0.01173456 0.18078014 0.36021978\n",
      " 0.4414103  0.66773828 0.42206785 0.42555499 0.17634271 0.13166128\n",
      " 0.59186837 0.36694653 0.15759207 0.55827809 0.42112313 0.22668158\n",
      " 0.24617068 0.89143411 0.80608537 0.13269436 0.01421151 0.029809\n",
      " 0.87934592 0.5774581  0.70599343 0.91404806 0.70345151 0.30422184\n",
      " 0.17322469 0.20880628 0.78695812 0.03626892 0.78835207 0.58713207\n",
      " 0.31991728 0.65941071 0.74999513 0.49709204 0.73421208 0.4065899\n",
      " 0.13212434 0.13176893 0.89463621 0.17056896 0.6529048  0.81711689\n",
      " 0.50470894 0.72621839 0.85712648 0.01280172 0.66687823 0.64289914\n",
      " 0.11063922 0.47171203 0.19242686 0.27366458 0.76928539 0.70871669\n",
      " 0.57746243 0.48523429 0.42294236 0.69828619 0.69548604 0.68419631\n",
      " 0.83123959 0.08589925 0.96572401 0.1184438 ]\n",
      "Second array\n",
      " [4.54986031e-01 3.34202670e-01 9.94598806e-01 8.43184678e-01\n",
      " 2.58503775e-04 9.55096982e-01 1.48564661e-01 9.56320604e-01\n",
      " 5.63905898e-01 7.34481362e-01 2.97501074e-01 1.87654894e-01\n",
      " 3.28902678e-01 2.01268219e-01 5.17359755e-02 2.56191168e-01\n",
      " 6.05341814e-02 1.68037730e-01 1.07055562e-01 5.80545382e-01\n",
      " 7.40648749e-01 4.76566867e-01 7.60955779e-01 6.45165762e-02\n",
      " 3.05363602e-01 9.36525310e-01 9.42968973e-01 6.13988433e-01\n",
      " 3.10204255e-01 9.91401121e-01 5.89249855e-01 7.36533768e-01\n",
      " 7.40015822e-02 3.01578320e-01 8.25735571e-01 8.73831585e-01\n",
      " 4.77186750e-01 4.68111308e-01 4.41242802e-02 3.68181692e-01\n",
      " 2.90421374e-01 1.95646111e-01 2.04324295e-01 1.60618970e-01\n",
      " 6.14903772e-01 5.79172359e-03 4.92385900e-01 1.21849685e-01\n",
      " 9.73827247e-01 3.26783648e-01 1.45403044e-01 7.77677150e-01\n",
      " 7.66043588e-01 8.46577932e-01 3.71505920e-01 1.57786756e-01\n",
      " 2.60986800e-01 4.89353003e-02 8.86549211e-01 8.86896968e-01\n",
      " 6.91591875e-01 2.05470754e-01 7.03875265e-01 6.84047013e-01\n",
      " 7.70543467e-01 6.34278284e-02 8.74203673e-01 8.56323859e-01\n",
      " 8.84931820e-01 1.05688860e-01 9.26389305e-01 4.89794858e-01\n",
      " 5.89069645e-01 6.13605795e-01 5.30992984e-01 3.07599796e-01\n",
      " 7.51070152e-01 2.45992436e-01 8.70243052e-01 6.06461845e-02\n",
      " 1.43836271e-01 9.71581040e-01 5.30324103e-02 7.96277339e-02\n",
      " 5.59005665e-01 8.11481029e-01 6.98032080e-01 1.55935399e-01\n",
      " 9.39155996e-01 5.53221715e-01 8.36352440e-01 1.57044944e-02\n",
      " 3.98631894e-01 6.08386145e-01 3.68734114e-01 3.11938495e-01\n",
      " 3.19354743e-01 3.79606067e-01 4.78713793e-01 8.60969645e-01]\n"
     ]
    }
   ],
   "source": [
    "arr1 = np.random.rand(100)\n",
    "arr2 = np.random.rand(100)\n",
    "print(\"First array\\n\",arr1)\n",
    "print(\"Second array\\n\",arr2)"
   ]
  },
  {
   "cell_type": "code",
   "execution_count": 30,
   "metadata": {},
   "outputs": [],
   "source": [
    "def python_multiply(a, b):\n",
    "    result = []\n",
    "    for i in range(len(a)):\n",
    "        result.append(a[i] * b[i])\n",
    "    return result"
   ]
  },
  {
   "cell_type": "code",
   "execution_count": 31,
   "metadata": {},
   "outputs": [
    {
     "name": "stdout",
     "output_type": "stream",
     "text": [
      "37.1 μs ± 3.52 μs per loop (mean ± std. dev. of 7 runs, 10,000 loops each)\n"
     ]
    }
   ],
   "source": [
    "%%timeit\n",
    "python_multiply(arr1, arr2)"
   ]
  },
  {
   "cell_type": "code",
   "execution_count": 32,
   "metadata": {},
   "outputs": [
    {
     "name": "stdout",
     "output_type": "stream",
     "text": [
      "[np.float64(0.41035676402143934), np.float64(0.02404076073290068), np.float64(0.6830289045170138), np.float64(0.32015204795325625), np.float64(4.20070158440868e-05), np.float64(0.8013149627636263), np.float64(0.11070351296173918), np.float64(0.21611354971340183), np.float64(0.0490199757517101), np.float64(0.7011599482546577), np.float64(0.006048890215125157), np.float64(0.06333988865232734), np.float64(0.0028202456198387566), np.float64(0.0739896089031676), np.float64(0.010202442378468391), np.float64(0.20539632833798852), np.float64(0.00889265084576973), np.float64(0.14613350291183644), np.float64(0.09700769264727412), np.float64(0.3418996288378308), np.float64(0.7075947516909844), np.float64(0.0881105801154061), np.float64(0.607999960689789), np.float64(0.016073978749972916), np.float64(0.21036156109645937), np.float64(0.9269123738965163), np.float64(0.42087582802238516), np.float64(0.6073400765448786), np.float64(0.27429155968291924), np.float64(0.5175125424817314), np.float64(0.10248595430246807), np.float64(0.6091271249705034), np.float64(0.014022676008548092), np.float64(0.003538890049534447), np.float64(0.14927658914614683), np.float64(0.31477142249039186), np.float64(0.21063514596417482), np.float64(0.31257583918735055), np.float64(0.01862344023948647), np.float64(0.15668155579580997), np.float64(0.051213692199610944), np.float64(0.025759017851772235), np.float64(0.12093308758380816), np.float64(0.05893857340119052), np.float64(0.0969039595549307), np.float64(0.0032333923893780236), np.float64(0.20735509312211234), np.float64(0.027621079489318925), np.float64(0.2397277175433241), np.float64(0.2913060918182105), np.float64(0.11720726738483943), np.float64(0.10319336976505236), np.float64(0.01088663507569858), np.float64(0.02523564272336416), np.float64(0.3266822164721915), np.float64(0.09111523996696166), np.float64(0.18425496596867122), np.float64(0.04472921609528381), np.float64(0.6236443830089883), np.float64(0.2698134297125695), np.float64(0.11980078674877674), np.float64(0.04290358403389989), np.float64(0.5539203542243369), np.float64(0.024809645007749702), np.float64(0.6074595412180729), np.float64(0.037240512417628775), np.float64(0.27967286246999723), np.float64(0.5646691222896676), np.float64(0.6636945554583196), np.float64(0.05253709106688046), np.float64(0.6801662143116929), np.float64(0.1991456437995131), np.float64(0.07783043908847882), np.float64(0.08085417779427688), np.float64(0.4750455524023379), np.float64(0.05246697792023265), np.float64(0.49037731016911207), np.float64(0.20100457339995415), np.float64(0.43921944838125926), np.float64(0.04404237424168938), np.float64(0.12328587705203017), np.float64(0.012437912058401033), np.float64(0.03536615975765461), np.float64(0.05119260146281393), np.float64(0.061847949101769745), np.float64(0.3827853653738076), np.float64(0.1343201208376047), np.float64(0.04267399623049096), np.float64(0.7224789900769103), np.float64(0.39207746101711577), np.float64(0.48296211071598694), np.float64(0.007620359236577359), np.float64(0.16859831291453467), np.float64(0.42482764257055694), np.float64(0.25644942928648917), np.float64(0.2134271669491338), np.float64(0.26546030564347894), np.float64(0.032607877067917186), np.float64(0.46230540331001246), np.float64(0.10197651361746855)]\n"
     ]
    }
   ],
   "source": [
    "print(python_multiply(arr1, arr2))"
   ]
  },
  {
   "cell_type": "code",
   "execution_count": 33,
   "metadata": {},
   "outputs": [
    {
     "name": "stdout",
     "output_type": "stream",
     "text": [
      "1.14 μs ± 267 ns per loop (mean ± std. dev. of 7 runs, 100,000 loops each)\n"
     ]
    }
   ],
   "source": [
    "%%timeit\n",
    "arr1 * arr2"
   ]
  },
  {
   "cell_type": "code",
   "execution_count": 34,
   "metadata": {},
   "outputs": [
    {
     "name": "stdout",
     "output_type": "stream",
     "text": [
      "[4.10356764e-01 2.40407607e-02 6.83028905e-01 3.20152048e-01\n",
      " 4.20070158e-05 8.01314963e-01 1.10703513e-01 2.16113550e-01\n",
      " 4.90199758e-02 7.01159948e-01 6.04889022e-03 6.33398887e-02\n",
      " 2.82024562e-03 7.39896089e-02 1.02024424e-02 2.05396328e-01\n",
      " 8.89265085e-03 1.46133503e-01 9.70076926e-02 3.41899629e-01\n",
      " 7.07594752e-01 8.81105801e-02 6.07999961e-01 1.60739787e-02\n",
      " 2.10361561e-01 9.26912374e-01 4.20875828e-01 6.07340077e-01\n",
      " 2.74291560e-01 5.17512542e-01 1.02485954e-01 6.09127125e-01\n",
      " 1.40226760e-02 3.53889005e-03 1.49276589e-01 3.14771422e-01\n",
      " 2.10635146e-01 3.12575839e-01 1.86234402e-02 1.56681556e-01\n",
      " 5.12136922e-02 2.57590179e-02 1.20933088e-01 5.89385734e-02\n",
      " 9.69039596e-02 3.23339239e-03 2.07355093e-01 2.76210795e-02\n",
      " 2.39727718e-01 2.91306092e-01 1.17207267e-01 1.03193370e-01\n",
      " 1.08866351e-02 2.52356427e-02 3.26682216e-01 9.11152400e-02\n",
      " 1.84254966e-01 4.47292161e-02 6.23644383e-01 2.69813430e-01\n",
      " 1.19800787e-01 4.29035840e-02 5.53920354e-01 2.48096450e-02\n",
      " 6.07459541e-01 3.72405124e-02 2.79672862e-01 5.64669122e-01\n",
      " 6.63694555e-01 5.25370911e-02 6.80166214e-01 1.99145644e-01\n",
      " 7.78304391e-02 8.08541778e-02 4.75045552e-01 5.24669779e-02\n",
      " 4.90377310e-01 2.01004573e-01 4.39219448e-01 4.40423742e-02\n",
      " 1.23285877e-01 1.24379121e-02 3.53661598e-02 5.11926015e-02\n",
      " 6.18479491e-02 3.82785365e-01 1.34320121e-01 4.26739962e-02\n",
      " 7.22478990e-01 3.92077461e-01 4.82962111e-01 7.62035924e-03\n",
      " 1.68598313e-01 4.24827643e-01 2.56449429e-01 2.13427167e-01\n",
      " 2.65460306e-01 3.26078771e-02 4.62305403e-01 1.01976514e-01]\n"
     ]
    }
   ],
   "source": [
    "print(arr1 * arr2)"
   ]
  }
 ],
 "metadata": {
  "kernelspec": {
   "display_name": "Python 3 (ipykernel)",
   "language": "python",
   "name": "python3"
  },
  "language_info": {
   "codemirror_mode": {
    "name": "ipython",
    "version": 3
   },
   "file_extension": ".py",
   "mimetype": "text/x-python",
   "name": "python",
   "nbconvert_exporter": "python",
   "pygments_lexer": "ipython3",
   "version": "3.13.5"
  }
 },
 "nbformat": 4,
 "nbformat_minor": 4
}
