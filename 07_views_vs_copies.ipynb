{
 "cells": [
  {
   "cell_type": "markdown",
   "metadata": {},
   "source": [
    "# 07 Views and Copies in Numpy Exercises\n",
    "\n",
    "**Note**: If any exercises require techniques we haven't covered yet - you should look this up! It's part of the learning process, we need to build the muscle of learning how to do things we haven't seen before.\n",
    "\n",
    "Don't be shy, ask for help on Discord!\n",
    "\n",
    "You don't need to do all these (it's a lot!). As soon as you get the gist, feel free to move on.\n",
    "\n",
    "1. Create a 1D NumPy array with 10 elements. Create a view of the first 5 elements and modify the 3rd element of the view. Check if the original array has been modified.\n"
   ]
  },
  {
   "cell_type": "code",
   "execution_count": 1,
   "metadata": {
    "vscode": {
     "languageId": "plaintext"
    }
   },
   "outputs": [],
   "source": [
    "import numpy as np"
   ]
  },
  {
   "cell_type": "code",
   "execution_count": 3,
   "metadata": {},
   "outputs": [
    {
     "name": "stdout",
     "output_type": "stream",
     "text": [
      "Original array\n",
      "[0 1 2 3 4 5 6 7 8 9]\n",
      "\n",
      "View of first 5 elements\n",
      "[0 1 2 3 4]\n",
      "\n",
      "VIew after modification\n",
      "[ 0  1 20  3  4]\n",
      "\n",
      "Array  after modification\n",
      "[ 0  1 20  3  4  5  6  7  8  9]\n"
     ]
    }
   ],
   "source": [
    "arr1 = np.arange(10)\n",
    "print(f\"Original array\\n{arr1}\\n\")\n",
    "view = arr1[:5]\n",
    "print(f\"View of first 5 elements\\n{view}\\n\")\n",
    "view[2] = 20\n",
    "print(f\"VIew after modification\\n{view}\\n\")\n",
    "print(f\"Array  after modification\\n{arr1}\")"
   ]
  },
  {
   "cell_type": "markdown",
   "metadata": {},
   "source": [
    "\n",
    "2. Create a 1D NumPy array with 10 elements. Create a copy of the first 5 elements and modify the 3rd element of the copy. Check if the original array has been modified.\n"
   ]
  },
  {
   "cell_type": "code",
   "execution_count": 6,
   "metadata": {
    "vscode": {
     "languageId": "plaintext"
    }
   },
   "outputs": [
    {
     "name": "stdout",
     "output_type": "stream",
     "text": [
      "Original array\n",
      "[0 1 2 3 4 5 6 7 8 9]\n",
      "\n",
      "Array copy\n",
      "[0 1 2 3 4]\n",
      "\n",
      "first array after modification of copy\n",
      "[0 1 2 3 4 5 6 7 8 9]\n",
      "\n",
      "Copy after modification\n",
      "[ 0  1 99  3  4]\n",
      "\n"
     ]
    }
   ],
   "source": [
    "arr1 = np.arange(10)\n",
    "print(f\"Original array\\n{arr1}\\n\")\n",
    "arr2 = arr1[:5].copy()\n",
    "print(f\"Array copy\\n{arr2}\\n\")\n",
    "arr2[2] = 99\n",
    "print(f\"first array after modification of copy\\n{arr1}\\n\")\n",
    "print(f\"Copy after modification\\n{arr2}\\n\")"
   ]
  },
  {
   "cell_type": "markdown",
   "metadata": {},
   "source": [
    "\n",
    "3. Create a 2D NumPy array with 4 rows and 5 columns. Create a view of the first 2 rows and modify the element at (1, 1). Check if the original array has been modified.\n"
   ]
  },
  {
   "cell_type": "code",
   "execution_count": 9,
   "metadata": {
    "vscode": {
     "languageId": "plaintext"
    }
   },
   "outputs": [
    {
     "name": "stdout",
     "output_type": "stream",
     "text": [
      "Original array\n",
      "[[ 1  2  3  4  5]\n",
      " [ 6  7  8  9 10]\n",
      " [11 12 13 14 15]\n",
      " [16 17 18 19 20]]\n",
      "\n",
      "View of first two rows\n",
      "[[ 1  2  3  4  5]\n",
      " [ 6  7  8  9 10]]\n",
      "\n",
      "View after modification\n",
      "[[ 1  2  3  4  5]\n",
      " [ 6 99  8  9 10]]\n",
      "\n",
      "Array after modification of view\n",
      "[[ 1  2  3  4  5]\n",
      " [ 6 99  8  9 10]\n",
      " [11 12 13 14 15]\n",
      " [16 17 18 19 20]]\n"
     ]
    }
   ],
   "source": [
    "arr1 = np.arange(1, 21).reshape(4, 5)\n",
    "print(f\"Original array\\n{arr1}\\n\")\n",
    "view = arr1[:2,]\n",
    "print(f\"View of first two rows\\n{view}\\n\")\n",
    "view[1, 1] = 99\n",
    "print(f\"View after modification\\n{view}\\n\")\n",
    "print(f\"Array after modification of view\\n{arr1}\")"
   ]
  },
  {
   "cell_type": "markdown",
   "metadata": {},
   "source": [
    "\n",
    "4. Create a 2D NumPy array with 4 rows and 5 columns. Create a copy of the first 2 rows and modify the element at (1, 1). Check if the original array has been modified.\n"
   ]
  },
  {
   "cell_type": "code",
   "execution_count": 12,
   "metadata": {
    "vscode": {
     "languageId": "plaintext"
    }
   },
   "outputs": [
    {
     "name": "stdout",
     "output_type": "stream",
     "text": [
      "Original array\n",
      "[[ 1  2  3  4  5]\n",
      " [ 6  7  8  9 10]\n",
      " [11 12 13 14 15]\n",
      " [16 17 18 19 20]]\n",
      "\n",
      "Copy of the array\n",
      "[[ 1  2  3  4  5]\n",
      " [ 6  7  8  9 10]]\n",
      "\n",
      "Copy after modification\n",
      "[[  1   2   3   4   5]\n",
      " [  6 999   8   9  10]]\n",
      "\n",
      "Array after modification of copy\n",
      "[[ 1  2  3  4  5]\n",
      " [ 6  7  8  9 10]\n",
      " [11 12 13 14 15]\n",
      " [16 17 18 19 20]]\n"
     ]
    }
   ],
   "source": [
    "arr1 = np.arange(1, 21).reshape(4, 5)\n",
    "print(f\"Original array\\n{arr1}\\n\")\n",
    "copy = arr1[:2,].copy()\n",
    "print(f\"Copy of the array\\n{copy}\\n\")\n",
    "copy[1,1] = 999\n",
    "print(f\"Copy after modification\\n{copy}\\n\")\n",
    "print(f\"Array after modification of copy\\n{arr1}\")"
   ]
  },
  {
   "cell_type": "markdown",
   "metadata": {},
   "source": [
    "\n",
    "5. Create a 1D NumPy array with 10 elements. Create a variable using boolean indexing (e.g., `arr[arr > 5]`) and modify the first element of the variable. Check if the original array has been modified.\n"
   ]
  },
  {
   "cell_type": "code",
   "execution_count": 16,
   "metadata": {
    "vscode": {
     "languageId": "plaintext"
    }
   },
   "outputs": [
    {
     "name": "stdout",
     "output_type": "stream",
     "text": [
      "Original array\n",
      "[0 1 2 3 4 5 6 7 8 9]\n",
      "\n",
      "[6 7 8 9]\n",
      "\n",
      "[0 1 2 3 4 5 6 7 8 9]\n",
      "\n",
      "[999   7   8   9]\n"
     ]
    }
   ],
   "source": [
    "arr1 = np.arange(10)\n",
    "print(f\"Original array\\n{arr1}\\n\")\n",
    "arr2 = arr1[arr1 > 5]\n",
    "print(arr2)\n",
    "print()\n",
    "arr2[0] = 999\n",
    "print(arr1)\n",
    "print()\n",
    "print(arr2)"
   ]
  },
  {
   "cell_type": "markdown",
   "metadata": {},
   "source": [
    "\n",
    "6. Create a 1D NumPy array with 10 elements. Create a variable using boolean indexing with `copy()` (e.g., `arr[arr > 5].copy()`) and modify the first element of the variable. Check if the original array has been modified.\n"
   ]
  },
  {
   "cell_type": "code",
   "execution_count": 21,
   "metadata": {
    "vscode": {
     "languageId": "plaintext"
    }
   },
   "outputs": [
    {
     "name": "stdout",
     "output_type": "stream",
     "text": [
      "[0 1 2 3 4 5 6 7 8 9]\n",
      "\n",
      "[5 6 7 8 9]\n",
      "\n",
      "[99  6  7  8  9]\n",
      "\n",
      "[0 1 2 3 4 5 6 7 8 9]\n"
     ]
    }
   ],
   "source": [
    "arr1 = np.arange(10)\n",
    "print(arr1)\n",
    "copy = arr1[arr1 > 4]\n",
    "print()\n",
    "print(copy)\n",
    "copy[0] = 99\n",
    "print()\n",
    "print(copy)\n",
    "print()\n",
    "print(arr1)"
   ]
  },
  {
   "cell_type": "markdown",
   "metadata": {},
   "source": [
    "\n",
    "7. Create a 2D NumPy array with 5 rows and 5 columns. Create a variable using integer array indexing (e.g., `arr[[1, 2], [3, 4]]`) and modify the first element of the variable. Check if the original array has been modified.\n"
   ]
  },
  {
   "cell_type": "code",
   "execution_count": 24,
   "metadata": {
    "vscode": {
     "languageId": "plaintext"
    }
   },
   "outputs": [
    {
     "name": "stdout",
     "output_type": "stream",
     "text": [
      "[[ 1  2  3  4  5]\n",
      " [ 6  7  8  9 10]\n",
      " [11 12 13 14 15]\n",
      " [16 17 18 19 20]\n",
      " [21 22 23 24 25]]\n",
      "\n",
      "[ 8 20]\n",
      "\n",
      "[99 20]\n",
      "\n",
      "[[ 1  2  3  4  5]\n",
      " [ 6  7  8  9 10]\n",
      " [11 12 13 14 15]\n",
      " [16 17 18 19 20]\n",
      " [21 22 23 24 25]]\n"
     ]
    }
   ],
   "source": [
    "arr1= np.arange(1, 26).reshape(5, 5)\n",
    "print(arr1)\n",
    "print()\n",
    "arr2 = arr1[[1,3],[2,4]]\n",
    "print(arr2)\n",
    "arr2[0] = 99\n",
    "print()\n",
    "print(arr2)\n",
    "print()\n",
    "print(arr1)"
   ]
  },
  {
   "cell_type": "markdown",
   "metadata": {},
   "source": [
    "\n",
    "8. Create a 2D NumPy array with 5 rows and 5 columns. Create a variable using integer array indexing (e.g., `arr[[1, 2], [3, 4]].copy()`) and modify the first element of the variable. Check if the original array has been modified.\n"
   ]
  },
  {
   "cell_type": "code",
   "execution_count": 25,
   "metadata": {
    "vscode": {
     "languageId": "plaintext"
    }
   },
   "outputs": [
    {
     "name": "stdout",
     "output_type": "stream",
     "text": [
      "[[ 1  2  3  4  5]\n",
      " [ 6  7  8  9 10]\n",
      " [11 12 13 14 15]\n",
      " [16 17 18 19 20]\n",
      " [21 22 23 24 25]]\n",
      "\n",
      "[ 9 15]\n",
      "\n",
      "[[ 1  2  3  4  5]\n",
      " [ 6  7  8  9 10]\n",
      " [11 12 13 14 15]\n",
      " [16 17 18 19 20]\n",
      " [21 22 23 24 25]]\n",
      "\n",
      "[99 15]\n"
     ]
    }
   ],
   "source": [
    "arr1 = np.arange(1, 26).reshape(5, 5)\n",
    "arr2 = arr1[[1,2],[3,4]]\n",
    "print(arr1)\n",
    "print()\n",
    "print(arr2)\n",
    "print()\n",
    "arr2[0] = 99\n",
    "print(arr1)\n",
    "print()\n",
    "print(arr2)"
   ]
  },
  {
   "cell_type": "markdown",
   "metadata": {},
   "source": [
    "\n",
    "9. Create a 1D NumPy array with 12 elements. Reshape the array into a 3x4 matrix. Create a view of the first row and modify the 2nd element of the view. Check if the original array has been modified.\n"
   ]
  },
  {
   "cell_type": "code",
   "execution_count": 33,
   "metadata": {
    "vscode": {
     "languageId": "plaintext"
    }
   },
   "outputs": [
    {
     "name": "stdout",
     "output_type": "stream",
     "text": [
      "[ 0  1  2  3  4  5  6  7  8  9 10 11]\n",
      "\n",
      "[[ 0  1  2  3]\n",
      " [ 4  5  6  7]\n",
      " [ 8  9 10 11]]\n",
      "\n",
      "[0 1 2 3]\n",
      "\n",
      "[ 0 99  2  3]\n",
      "0\n",
      "\n",
      "[[ 0 99  2  3]\n",
      " [ 4  5  6  7]\n",
      " [ 8  9 10 11]]\n",
      "[ 0 99  2  3  4  5  6  7  8  9 10 11]\n"
     ]
    }
   ],
   "source": [
    "arr = np.arange(12)\n",
    "print(arr)\n",
    "print()\n",
    "matrix = arr.reshape(3, 4)\n",
    "print(matrix)\n",
    "print()\n",
    "row = matrix[0]\n",
    "print(row)\n",
    "print()\n",
    "row[1] = 99\n",
    "print(row)\n",
    "print(0)\n",
    "print()\n",
    "print(matrix)\n",
    "print(arr)"
   ]
  },
  {
   "cell_type": "markdown",
   "metadata": {},
   "source": [
    "\n",
    "10. Create a 1D NumPy array with 12 elements. Reshape the array into a 3x4 matrix. Create a copy of the first row using `arr[0].copy()` and modify the 2nd element of the copy. Check if the original array has been modified.\n"
   ]
  },
  {
   "cell_type": "code",
   "execution_count": 39,
   "metadata": {
    "vscode": {
     "languageId": "plaintext"
    }
   },
   "outputs": [
    {
     "name": "stdout",
     "output_type": "stream",
     "text": [
      "[ 0  1  2  3  4  5  6  7  8  9 10 11]\n",
      "\n",
      "[[ 0  1  2  3]\n",
      " [ 4  5  6  7]\n",
      " [ 8  9 10 11]]\n",
      "\n",
      "[0 1 2 3]\n",
      "\n",
      "[ 0 99  2  3]\n",
      "\n",
      "[[ 0  1  2  3]\n",
      " [ 4  5  6  7]\n",
      " [ 8  9 10 11]]\n",
      "[ 0  1  2  3  4  5  6  7  8  9 10 11]\n"
     ]
    }
   ],
   "source": [
    "arr = np.arange(12)\n",
    "print(arr)\n",
    "print()\n",
    "matrix = arr.reshape(3, 4)\n",
    "print(matrix)\n",
    "copy = matrix[0].copy()\n",
    "print()\n",
    "print(copy)\n",
    "copy[1] = 99\n",
    "print()\n",
    "print(copy)\n",
    "print()\n",
    "print(matrix)\n",
    "print(arr)"
   ]
  },
  {
   "cell_type": "markdown",
   "metadata": {},
   "source": [
    "\n",
    "11. Create a 2D NumPy array with 6 rows and 6 columns. Create a view of every other row starting from the first row and modify the element at (1, 1). Check if the original array has been modified.\n"
   ]
  },
  {
   "cell_type": "code",
   "execution_count": 51,
   "metadata": {
    "vscode": {
     "languageId": "plaintext"
    }
   },
   "outputs": [
    {
     "name": "stdout",
     "output_type": "stream",
     "text": [
      "Original array:\n",
      " [[ 1  2  3  4  5  6]\n",
      " [ 7  8  9 10 11 12]\n",
      " [13 14 15 16 17 18]\n",
      " [19 20 21 22 23 24]\n",
      " [25 26 27 28 29 30]\n",
      " [31 32 33 34 35 36]]\n",
      "\n",
      "View (every other row):\n",
      " [[ 1  2  3  4  5  6]\n",
      " [13 14 15 16 17 18]\n",
      " [25 26 27 28 29 30]]\n",
      "\n",
      "View after modification:\n",
      " [[  1   2   3   4   5   6]\n",
      " [ 13 999  15  16  17  18]\n",
      " [ 25  26  27  28  29  30]]\n",
      "\n",
      "Original array after modification:\n",
      " [[  1   2   3   4   5   6]\n",
      " [  7   8   9  10  11  12]\n",
      " [ 13 999  15  16  17  18]\n",
      " [ 19  20  21  22  23  24]\n",
      " [ 25  26  27  28  29  30]\n",
      " [ 31  32  33  34  35  36]]\n"
     ]
    }
   ],
   "source": [
    "arr1 = np.arange(1, 37).reshape(6, 6)\n",
    "print(\"Original array:\\n\", arr1)\n",
    "\n",
    "view = arr1[::2]\n",
    "print(\"\\nView (every other row):\\n\", view)\n",
    "\n",
    "view[1, 1] = 999\n",
    "print(\"\\nView after modification:\\n\", view)\n",
    "\n",
    "print(\"\\nOriginal array after modification:\\n\", arr1)\n"
   ]
  },
  {
   "cell_type": "markdown",
   "metadata": {},
   "source": [
    "\n",
    "12. Create a 2D NumPy array with 6 rows and 6 columns. Create a copy of every other row starting from the first row and modify the element at (1, 1). Check if the original array has been modified.\n"
   ]
  },
  {
   "cell_type": "code",
   "execution_count": 56,
   "metadata": {
    "vscode": {
     "languageId": "plaintext"
    }
   },
   "outputs": [
    {
     "name": "stdout",
     "output_type": "stream",
     "text": [
      "[[ 1  2  3  4  5  6]\n",
      " [ 7  8  9 10 11 12]\n",
      " [13 14 15 16 17 18]\n",
      " [19 20 21 22 23 24]\n",
      " [25 26 27 28 29 30]\n",
      " [31 32 33 34 35 36]]\n",
      "\n",
      "[[ 1  2  3  4  5  6]\n",
      " [13 14 15 16 17 18]\n",
      " [25 26 27 28 29 30]]\n",
      "\n",
      "[[  1   2   3   4   5   6]\n",
      " [ 13 999  15  16  17  18]\n",
      " [ 25  26  27  28  29  30]]\n",
      "\n",
      "[[  1   2   3   4   5   6]\n",
      " [  7   8   9  10  11  12]\n",
      " [ 13 999  15  16  17  18]\n",
      " [ 19  20  21  22  23  24]\n",
      " [ 25  26  27  28  29  30]\n",
      " [ 31  32  33  34  35  36]]\n"
     ]
    }
   ],
   "source": [
    "arr = np.arange(1, 37).reshape(6, 6)\n",
    "print(arr)\n",
    "copy = arr[::2]\n",
    "print()\n",
    "print(copy)\n",
    "copy[1, 1] = 999\n",
    "print()\n",
    "print(copy)\n",
    "print()\n",
    "print(arr)"
   ]
  },
  {
   "cell_type": "markdown",
   "metadata": {},
   "source": [
    "\n",
    "13. Create a 2D NumPy array with 4 rows and 5 columns. Use boolean indexing to create a view of the elements greater than 10 and modify the first element of the view. Check if the original array has been modified.\n"
   ]
  },
  {
   "cell_type": "code",
   "execution_count": 59,
   "metadata": {
    "vscode": {
     "languageId": "plaintext"
    }
   },
   "outputs": [
    {
     "name": "stdout",
     "output_type": "stream",
     "text": [
      "[[ 1  2  3  4  5]\n",
      " [ 6  7  8  9 10]\n",
      " [11 12 13 14 15]\n",
      " [16 17 18 19 20]]\n",
      "\n",
      "[11 12 13 14 15 16 17 18 19 20]\n",
      "\n",
      "[999  12  13  14  15  16  17  18  19  20]\n",
      "\n",
      "[[ 1  2  3  4  5]\n",
      " [ 6  7  8  9 10]\n",
      " [11 12 13 14 15]\n",
      " [16 17 18 19 20]]\n"
     ]
    }
   ],
   "source": [
    "arr = np.arange(1, 21).reshape(4, 5)\n",
    "print(arr)\n",
    "view = arr[arr > 10]\n",
    "print()\n",
    "print(view)\n",
    "view[0] = 999\n",
    "print()\n",
    "print(view)\n",
    "print()\n",
    "print(arr)"
   ]
  },
  {
   "cell_type": "markdown",
   "metadata": {},
   "source": [
    "\n",
    "14. Create a 2D NumPy array with 4 rows and 5 columns. Use boolean indexing to create a copy of the elements greater than 10 and modify the first element of the copy. Check if the original array has been modified.\n"
   ]
  },
  {
   "cell_type": "code",
   "execution_count": 62,
   "metadata": {
    "vscode": {
     "languageId": "plaintext"
    }
   },
   "outputs": [
    {
     "name": "stdout",
     "output_type": "stream",
     "text": [
      "[[ 1  2  3  4  5]\n",
      " [ 6  7  8  9 10]\n",
      " [11 12 13 14 15]\n",
      " [16 17 18 19 20]]\n",
      "\n",
      "[11 12 13 14 15 16 17 18 19 20]\n",
      "\n",
      "[999  12  13  14  15  16  17  18  19  20]\n",
      "\n",
      "[[ 1  2  3  4  5]\n",
      " [ 6  7  8  9 10]\n",
      " [11 12 13 14 15]\n",
      " [16 17 18 19 20]]\n"
     ]
    }
   ],
   "source": [
    "arr = np.arange(1, 21).reshape(4, 5)\n",
    "print(arr)\n",
    "print()\n",
    "copy = arr[arr > 10].copy()\n",
    "print(copy)\n",
    "print()\n",
    "copy[0] = 999\n",
    "print(copy)\n",
    "print()\n",
    "print(arr)"
   ]
  },
  {
   "cell_type": "markdown",
   "metadata": {},
   "source": [
    "\n",
    "15. Create a 1D NumPy array with 15 elements. Create a view of the array using slicing and assign it to a new variable. Modify the first element of the view and check if the `.base` attribute of the view points to the original array."
   ]
  },
  {
   "cell_type": "code",
   "execution_count": 69,
   "metadata": {
    "vscode": {
     "languageId": "plaintext"
    }
   },
   "outputs": [
    {
     "name": "stdout",
     "output_type": "stream",
     "text": [
      "[ 1  2  3  4  5  6  7  8  9 10 11 12 13 14 15]\n",
      "\n",
      "[4 5 6 7]\n",
      "\n",
      "[999   5   6   7]\n",
      "\n",
      "[  1   2   3 999   5   6   7   8   9  10  11  12  13  14  15]\n",
      "\n",
      "Does view.base point to original array? True\n"
     ]
    }
   ],
   "source": [
    "arr = np.arange(1, 16)\n",
    "print(arr)\n",
    "view = arr[3:7]\n",
    "print()\n",
    "print(view)\n",
    "view[0] = 999\n",
    "print()\n",
    "print(view) \n",
    "print()\n",
    "print(arr)\n",
    "print(\"\\nDoes view.base point to original array?\", view.base is arr)"
   ]
  }
 ],
 "metadata": {
  "kernelspec": {
   "display_name": "Python 3 (ipykernel)",
   "language": "python",
   "name": "python3"
  },
  "language_info": {
   "codemirror_mode": {
    "name": "ipython",
    "version": 3
   },
   "file_extension": ".py",
   "mimetype": "text/x-python",
   "name": "python",
   "nbconvert_exporter": "python",
   "pygments_lexer": "ipython3",
   "version": "3.13.5"
  }
 },
 "nbformat": 4,
 "nbformat_minor": 4
}
