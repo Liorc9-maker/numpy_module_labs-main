{
 "cells": [
  {
   "cell_type": "markdown",
   "metadata": {},
   "source": [
    "# 09 Exercises: Broadcasting\n",
    "**Note**: If any exercises require techniques we haven't covered yet - you should look this up! It's part of the learning process, we need to build the muscle of learning how to do things we haven't seen before.\n",
    "\n",
    "Don't be shy, ask for help on Discord!\n",
    "\n",
    "For each exercise, print the shapes of the arrays involved and the result of the operation to check your understanding of broadcasting rules."
   ]
  },
  {
   "cell_type": "markdown",
   "metadata": {},
   "source": [
    "\n",
    "1. Create a 1D NumPy array with 5 elements and add a scalar value to it.\n"
   ]
  },
  {
   "cell_type": "code",
   "execution_count": 1,
   "metadata": {},
   "outputs": [],
   "source": [
    "import numpy as np"
   ]
  },
  {
   "cell_type": "code",
   "execution_count": 3,
   "metadata": {
    "vscode": {
     "languageId": "plaintext"
    }
   },
   "outputs": [
    {
     "name": "stdout",
     "output_type": "stream",
     "text": [
      "Original array:\n",
      "[1 2 3 4 5]\n",
      "\n",
      "After adding scalar:\n",
      "[11 12 13 14 15]\n"
     ]
    }
   ],
   "source": [
    "arr1 = np.arange(1, 6).reshape(5)\n",
    "result = arr1 + 10 \n",
    "print(f\"Original array:\\n{arr1}\\n\\nAfter adding scalar:\\n{result}\")"
   ]
  },
  {
   "cell_type": "markdown",
   "metadata": {},
   "source": [
    "\n",
    "2. Create a 2D NumPy array with dimensions 3x4 and subtract a 1D array with 4 elements from each row of the 2D array.\n"
   ]
  },
  {
   "cell_type": "code",
   "execution_count": 6,
   "metadata": {
    "vscode": {
     "languageId": "plaintext"
    }
   },
   "outputs": [
    {
     "name": "stdout",
     "output_type": "stream",
     "text": [
      "First array:\n",
      "[[ 1  2  3  4]\n",
      " [ 5  6  7  8]\n",
      " [ 9 10 11 12]]\n",
      "\n",
      "Second array:\n",
      "[0 1 2 3]\n",
      "\n",
      "Result:\n",
      "[[1 1 1 1]\n",
      " [5 5 5 5]\n",
      " [9 9 9 9]]\n"
     ]
    }
   ],
   "source": [
    "arr1 = np.arange(1, 13).reshape(3, 4)\n",
    "arr2 = np.arange(0, 4)\n",
    "result = arr1 - arr2\n",
    "print(f\"First array:\\n{arr1}\\n\\nSecond array:\\n{arr2}\\n\\nResult:\\n{result}\")"
   ]
  },
  {
   "cell_type": "markdown",
   "metadata": {},
   "source": [
    "\n",
    "3. Create a 2D NumPy array with dimensions 4x3 and multiply it by a 1D array with 3 elements.\n"
   ]
  },
  {
   "cell_type": "code",
   "execution_count": 11,
   "metadata": {
    "vscode": {
     "languageId": "plaintext"
    }
   },
   "outputs": [
    {
     "name": "stdout",
     "output_type": "stream",
     "text": [
      "First array:\n",
      "[[ 1  2  3]\n",
      " [ 4  5  6]\n",
      " [ 7  8  9]\n",
      " [10 11 12]]\n",
      "\n",
      "Second array:\n",
      "[2 2 2]\n",
      "\n",
      "Result:\n",
      "[[ 2  4  6]\n",
      " [ 8 10 12]\n",
      " [14 16 18]\n",
      " [20 22 24]]\n"
     ]
    }
   ],
   "source": [
    "arr1 = np.arange(1, 13).reshape(4, 3)\n",
    "arr2 = np.full(3, 2)\n",
    "result = arr1 * arr2\n",
    "print(f\"First array:\\n{arr1}\\n\\nSecond array:\\n{arr2}\\n\\nResult:\\n{result}\")"
   ]
  },
  {
   "cell_type": "markdown",
   "metadata": {},
   "source": [
    "\n",
    "4. Create a 3D NumPy array with dimensions 2x3x4 and add a 2D array with dimensions 3x4 to each 2D slice of the 3D array.\n"
   ]
  },
  {
   "cell_type": "code",
   "execution_count": 13,
   "metadata": {
    "vscode": {
     "languageId": "plaintext"
    }
   },
   "outputs": [
    {
     "name": "stdout",
     "output_type": "stream",
     "text": [
      "First array:\n",
      "[[[ 1  2  3  4]\n",
      "  [ 5  6  7  8]\n",
      "  [ 9 10 11 12]]\n",
      "\n",
      " [[13 14 15 16]\n",
      "  [17 18 19 20]\n",
      "  [21 22 23 24]]]\n",
      "\n",
      "Second array:\n",
      "[[2 2 2 2]\n",
      " [2 2 2 2]\n",
      " [2 2 2 2]]\n",
      "\n",
      "Result:\n",
      "[[[ 2  4  6  8]\n",
      "  [10 12 14 16]\n",
      "  [18 20 22 24]]\n",
      "\n",
      " [[26 28 30 32]\n",
      "  [34 36 38 40]\n",
      "  [42 44 46 48]]]\n"
     ]
    }
   ],
   "source": [
    "arr1 = np.arange(1, 25).reshape(2, 3, 4)\n",
    "arr2 = np.full((3, 4) , 2)\n",
    "result = arr1 * arr2\n",
    "print(f\"First array:\\n{arr1}\\n\\nSecond array:\\n{arr2}\\n\\nResult:\\n{result}\")"
   ]
  },
  {
   "cell_type": "markdown",
   "metadata": {},
   "source": [
    "\n",
    "5. Create a 2D NumPy array with dimensions 5x2 and divide it by a 2D array with dimensions 1x2.\n"
   ]
  },
  {
   "cell_type": "code",
   "execution_count": 15,
   "metadata": {
    "vscode": {
     "languageId": "plaintext"
    }
   },
   "outputs": [
    {
     "name": "stdout",
     "output_type": "stream",
     "text": [
      "First array:\n",
      "[[70 98]\n",
      " [14 12]\n",
      " [66 78]\n",
      " [98 56]\n",
      " [13 35]]\n",
      "\n",
      "Second array:\n",
      "[[2 2]]\n",
      "\n",
      "Result:\n",
      "[[35.  49. ]\n",
      " [ 7.   6. ]\n",
      " [33.  39. ]\n",
      " [49.  28. ]\n",
      " [ 6.5 17.5]]\n"
     ]
    }
   ],
   "source": [
    "arr1 = np.random.randint(1,101, size =(5, 2))\n",
    "arr2 = np.full((1,2), 2)\n",
    "result = arr1 / arr2\n",
    "print(f\"First array:\\n{arr1}\\n\\nSecond array:\\n{arr2}\\n\\nResult:\\n{result}\")"
   ]
  },
  {
   "cell_type": "markdown",
   "metadata": {},
   "source": [
    "\n",
    "6. Create a 2D NumPy array with dimensions 3x3 and add a 1D array with 3 elements to each column of the 2D array.\n"
   ]
  },
  {
   "cell_type": "code",
   "execution_count": 31,
   "metadata": {
    "vscode": {
     "languageId": "plaintext"
    }
   },
   "outputs": [
    {
     "name": "stdout",
     "output_type": "stream",
     "text": [
      "First array:\n",
      "[[1 2 3]\n",
      " [4 5 6]\n",
      " [7 8 9]]\n",
      "\n",
      "Second array:\n",
      "[2 3 4]\n",
      "\n",
      "Result:\n",
      "[[ 3  4  5]\n",
      " [ 7  8  9]\n",
      " [11 12 13]]\n"
     ]
    }
   ],
   "source": [
    "arr1 = np.arange(1, 10).reshape(3, 3)\n",
    "arr2 = np.arange(2, 5).reshape(3)\n",
    "result = arr1 + arr2.reshape(3, 1)\n",
    "print(f\"First array:\\n{arr1}\\n\\nSecond array:\\n{arr2}\\n\\nResult:\\n{result}\")"
   ]
  },
  {
   "cell_type": "markdown",
   "metadata": {},
   "source": [
    "\n",
    "7. Create a 3D NumPy array with dimensions 4x2x3 and multiply it by a 3D array with dimensions 1x2x3.\n"
   ]
  },
  {
   "cell_type": "code",
   "execution_count": 27,
   "metadata": {
    "vscode": {
     "languageId": "plaintext"
    }
   },
   "outputs": [
    {
     "name": "stdout",
     "output_type": "stream",
     "text": [
      "First array:\n",
      "[[[59  2 63]\n",
      "  [ 1 23 17]]\n",
      "\n",
      " [[93 19 56]\n",
      "  [32 28 16]]\n",
      "\n",
      " [[90 14 18]\n",
      "  [31 49 77]]\n",
      "\n",
      " [[34  9 30]\n",
      "  [64 98 40]]]\n",
      "\n",
      "Second array:\n",
      "[[[ 5  6  7]\n",
      "  [ 8  9 10]]]\n",
      "\n",
      "Result:\n",
      "[[[295  12 441]\n",
      "  [  8 207 170]]\n",
      "\n",
      " [[465 114 392]\n",
      "  [256 252 160]]\n",
      "\n",
      " [[450  84 126]\n",
      "  [248 441 770]]\n",
      "\n",
      " [[170  54 210]\n",
      "  [512 882 400]]]\n"
     ]
    }
   ],
   "source": [
    "arr1 = np.random.randint(1, 101, size = (4, 2, 3))\n",
    "arr2 = np.arange(5, 11).reshape(1, 2, 3)\n",
    "result = arr1 * arr2\n",
    "print(f\"First array:\\n{arr1}\\n\\nSecond array:\\n{arr2}\\n\\nResult:\\n{result}\")"
   ]
  },
  {
   "cell_type": "markdown",
   "metadata": {},
   "source": [
    "\n",
    "8. Create a 2D NumPy array with dimensions 4x4 and subtract a scalar value from each element of the array.\n"
   ]
  },
  {
   "cell_type": "code",
   "execution_count": 29,
   "metadata": {
    "vscode": {
     "languageId": "plaintext"
    }
   },
   "outputs": [
    {
     "name": "stdout",
     "output_type": "stream",
     "text": [
      "Original array:\n",
      "[[10 11 12 13]\n",
      " [14 15 16 17]\n",
      " [18 19 20 21]\n",
      " [22 23 24 25]]\n",
      "\n",
      "Result:\n",
      "[[ 7  8  9 10]\n",
      " [11 12 13 14]\n",
      " [15 16 17 18]\n",
      " [19 20 21 22]]\n"
     ]
    }
   ],
   "source": [
    "arr1 = np.arange(10, 26).reshape(4, 4)\n",
    "result = arr1 - 3\n",
    "print(f\"Original array:\\n{arr1}\\n\\nResult:\\n{result}\")"
   ]
  },
  {
   "cell_type": "markdown",
   "metadata": {},
   "source": [
    "\n",
    "9. Create a 3D NumPy array with dimensions 2x2x3 and divide it by a 2D array with dimensions 1x3.\n"
   ]
  },
  {
   "cell_type": "code",
   "execution_count": 30,
   "metadata": {
    "vscode": {
     "languageId": "plaintext"
    }
   },
   "outputs": [
    {
     "name": "stdout",
     "output_type": "stream",
     "text": [
      "First array:\n",
      "[[[ 1  2  3]\n",
      "  [ 4  5  6]]\n",
      "\n",
      " [[ 7  8  9]\n",
      "  [10 11 12]]]\n",
      "\n",
      "Second array:\n",
      "[[3 3 3]]\n",
      "\n",
      "Result:\n",
      "[[[0.33333333 0.66666667 1.        ]\n",
      "  [1.33333333 1.66666667 2.        ]]\n",
      "\n",
      " [[2.33333333 2.66666667 3.        ]\n",
      "  [3.33333333 3.66666667 4.        ]]]\n"
     ]
    }
   ],
   "source": [
    "arr1 = np.arange(1, 13).reshape(2, 2, 3)\n",
    "arr2 = np.full((1, 3), 3)\n",
    "result = arr1 / arr2\n",
    "print(f\"First array:\\n{arr1}\\n\\nSecond array:\\n{arr2}\\n\\nResult:\\n{result}\")"
   ]
  },
  {
   "cell_type": "markdown",
   "metadata": {},
   "source": [
    "\n",
    "10. Create a 2D NumPy array with dimensions 3x5 and add a 1D array with 1 element to each row of the 2D array.\n"
   ]
  },
  {
   "cell_type": "code",
   "execution_count": 42,
   "metadata": {
    "vscode": {
     "languageId": "plaintext"
    }
   },
   "outputs": [
    {
     "name": "stdout",
     "output_type": "stream",
     "text": [
      "First array:\n",
      "[[ 6  2 10 12 15]\n",
      " [ 2  6  3  2  9]\n",
      " [ 4  4  4  8  2]]\n",
      "\n",
      "Second array:\n",
      "[10 11 12 13 14]\n",
      "\n",
      "Result:\n",
      "[[16 13 22 25 29]\n",
      " [12 17 15 15 23]\n",
      " [14 15 16 21 16]]\n"
     ]
    }
   ],
   "source": [
    "arr1 = np.random.randint(1, 20, size = (3, 5))\n",
    "arr2 = np.arange(10, 15).reshape(5)\n",
    "result = arr1 + arr2\n",
    "print(f\"First array:\\n{arr1}\\n\\nSecond array:\\n{arr2}\\n\\nResult:\\n{result}\")"
   ]
  },
  {
   "cell_type": "markdown",
   "metadata": {},
   "source": [
    "\n",
    "11. Create a 3D NumPy array with dimensions 2x4x3 and subtract a 2D array with dimensions 4x1 from each 3D slice of the 3D array.\n"
   ]
  },
  {
   "cell_type": "code",
   "execution_count": 46,
   "metadata": {
    "vscode": {
     "languageId": "plaintext"
    }
   },
   "outputs": [
    {
     "name": "stdout",
     "output_type": "stream",
     "text": [
      "First array:\n",
      "[[[20 21 22]\n",
      "  [23 24 25]\n",
      "  [26 27 28]\n",
      "  [29 30 31]]\n",
      "\n",
      " [[32 33 34]\n",
      "  [35 36 37]\n",
      "  [38 39 40]\n",
      "  [41 42 43]]]\n",
      "\n",
      "Second array:\n",
      "[[2]\n",
      " [3]\n",
      " [4]\n",
      " [5]]\n",
      "\n",
      "Result:\n",
      "[[[18 19 20]\n",
      "  [20 21 22]\n",
      "  [22 23 24]\n",
      "  [24 25 26]]\n",
      "\n",
      " [[30 31 32]\n",
      "  [32 33 34]\n",
      "  [34 35 36]\n",
      "  [36 37 38]]]\n"
     ]
    }
   ],
   "source": [
    "arr1 = np.arange(20, 44).reshape(2, 4, 3)\n",
    "arr2 = np.arange(2, 6).reshape(4, 1)\n",
    "result = arr1 - arr2\n",
    "print(f\"First array:\\n{arr1}\\n\\nSecond array:\\n{arr2}\\n\\nResult:\\n{result}\")"
   ]
  },
  {
   "cell_type": "markdown",
   "metadata": {},
   "source": [
    "\n",
    "12. Create a 2D NumPy array with dimensions 4x2 and multiply it by a 2D array with dimensions 4x1.\n"
   ]
  },
  {
   "cell_type": "code",
   "execution_count": 47,
   "metadata": {
    "vscode": {
     "languageId": "plaintext"
    }
   },
   "outputs": [
    {
     "name": "stdout",
     "output_type": "stream",
     "text": [
      "First array:\n",
      "[[1 2]\n",
      " [3 4]\n",
      " [5 6]\n",
      " [7 8]]\n",
      "\n",
      "Second array:\n",
      "[[2]\n",
      " [3]\n",
      " [4]\n",
      " [5]]\n",
      "\n",
      "Result:\n",
      "[[ 2  4]\n",
      " [ 9 12]\n",
      " [20 24]\n",
      " [35 40]]\n"
     ]
    }
   ],
   "source": [
    "arr1 = np.arange(1, 9).reshape(4, 2)\n",
    "arr2 = np.arange(2,6).reshape(4, 1)\n",
    "result = arr1 * arr2\n",
    "print(f\"First array:\\n{arr1}\\n\\nSecond array:\\n{arr2}\\n\\nResult:\\n{result}\")"
   ]
  },
  {
   "cell_type": "markdown",
   "metadata": {},
   "source": [
    "\n",
    "13. Create a 3D NumPy array with dimensions 3x2x4 and add a 3D array with dimensions 3x1x1 to it.\n"
   ]
  },
  {
   "cell_type": "code",
   "execution_count": 50,
   "metadata": {
    "vscode": {
     "languageId": "plaintext"
    }
   },
   "outputs": [
    {
     "name": "stdout",
     "output_type": "stream",
     "text": [
      "First array:\n",
      "[[[ 1  2  3  4]\n",
      "  [ 5  6  7  8]]\n",
      "\n",
      " [[ 9 10 11 12]\n",
      "  [13 14 15 16]]\n",
      "\n",
      " [[17 18 19 20]\n",
      "  [21 22 23 24]]]\n",
      "\n",
      "Second array:\n",
      "[[[25]]\n",
      "\n",
      " [[26]]\n",
      "\n",
      " [[27]]]\n",
      "\n",
      "Result:\n",
      "[[[26 27 28 29]\n",
      "  [30 31 32 33]]\n",
      "\n",
      " [[35 36 37 38]\n",
      "  [39 40 41 42]]\n",
      "\n",
      " [[44 45 46 47]\n",
      "  [48 49 50 51]]]\n"
     ]
    }
   ],
   "source": [
    "arr1 = np.arange(1, 25).reshape(3, 2, 4)\n",
    "arr2 = np.arange(25, 28).reshape(3, 1, 1)\n",
    "result = arr1 + arr2\n",
    "print(f\"First array:\\n{arr1}\\n\\nSecond array:\\n{arr2}\\n\\nResult:\\n{result}\")"
   ]
  },
  {
   "cell_type": "markdown",
   "metadata": {},
   "source": [
    "\n",
    "14. Create a 2D NumPy array with dimensions 5x3 and divide it by a 1D array with 1 element.\n"
   ]
  },
  {
   "cell_type": "code",
   "execution_count": 65,
   "metadata": {
    "vscode": {
     "languageId": "plaintext"
    }
   },
   "outputs": [
    {
     "name": "stdout",
     "output_type": "stream",
     "text": [
      "First array:\n",
      "[[15 16 17]\n",
      " [18 19 20]\n",
      " [21 22 23]\n",
      " [24 25 26]\n",
      " [27 28 29]]\n",
      "\n",
      "Second array:\n",
      "[10]\n",
      "\n",
      "Result:\n",
      "[[1.5 1.6 1.7]\n",
      " [1.8 1.9 2. ]\n",
      " [2.1 2.2 2.3]\n",
      " [2.4 2.5 2.6]\n",
      " [2.7 2.8 2.9]]\n"
     ]
    }
   ],
   "source": [
    "arr1 = np.arange(15, 30).reshape(5, 3)\n",
    "arr2 = np.array([10])\n",
    "result = arr1 / arr2\n",
    "print(f\"First array:\\n{arr1}\\n\\nSecond array:\\n{arr2}\\n\\nResult:\\n{result}\")"
   ]
  },
  {
   "cell_type": "markdown",
   "metadata": {},
   "source": [
    "\n",
    "15. Create a 3D NumPy array with dimensions 2x3x4 and multiply it by a 3D array with dimensions 2x3x1.\n",
    "\n"
   ]
  },
  {
   "cell_type": "code",
   "execution_count": 70,
   "metadata": {},
   "outputs": [
    {
     "name": "stdout",
     "output_type": "stream",
     "text": [
      "First array:\n",
      "[[[ 1  2  3  4]\n",
      "  [ 5  6  7  8]\n",
      "  [ 9 10 11 12]]\n",
      "\n",
      " [[13 14 15 16]\n",
      "  [17 18 19 20]\n",
      "  [21 22 23 24]]]\n",
      "\n",
      "Second array:\n",
      "[[[2]\n",
      "  [3]\n",
      "  [4]]\n",
      "\n",
      " [[5]\n",
      "  [6]\n",
      "  [7]]]\n",
      "\n",
      "Result:\n",
      "[[[  2   4   6   8]\n",
      "  [ 15  18  21  24]\n",
      "  [ 36  40  44  48]]\n",
      "\n",
      " [[ 65  70  75  80]\n",
      "  [102 108 114 120]\n",
      "  [147 154 161 168]]]\n"
     ]
    }
   ],
   "source": [
    "arr1 = np.arange(1, 25).reshape(2, 3, 4)\n",
    "arr2 = np.arange(2,8).reshape(2, 3, 1)\n",
    "result = arr1 * arr2\n",
    "print(f\"First array:\\n{arr1}\\n\\nSecond array:\\n{arr2}\\n\\nResult:\\n{result}\")"
   ]
  }
 ],
 "metadata": {
  "kernelspec": {
   "display_name": "Python 3 (ipykernel)",
   "language": "python",
   "name": "python3"
  },
  "language_info": {
   "codemirror_mode": {
    "name": "ipython",
    "version": 3
   },
   "file_extension": ".py",
   "mimetype": "text/x-python",
   "name": "python",
   "nbconvert_exporter": "python",
   "pygments_lexer": "ipython3",
   "version": "3.13.5"
  }
 },
 "nbformat": 4,
 "nbformat_minor": 4
}
