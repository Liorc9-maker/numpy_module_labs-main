{
 "cells": [
  {
   "cell_type": "markdown",
   "metadata": {},
   "source": [
    "# 09 Exercises: Sorting\n",
    "**Note**: If any exercises require techniques we haven't covered yet - you should look this up! It's part of the learning process, we need to build the muscle of learning how to do things we haven't seen before.\n",
    "\n",
    "Don't be shy, ask for help on Discord!\n",
    "\n",
    "Remember to print the original array and the sorted array (or indices) for each exercise to check your results."
   ]
  },
  {
   "cell_type": "markdown",
   "metadata": {},
   "source": [
    "\n",
    "1. Create a 1D NumPy array with 10 random integers between 1 and 100. Sort the array in ascending order using `np.sort()`.\n"
   ]
  },
  {
   "cell_type": "code",
   "execution_count": 1,
   "metadata": {
    "vscode": {
     "languageId": "plaintext"
    }
   },
   "outputs": [],
   "source": [
    "import numpy as np"
   ]
  },
  {
   "cell_type": "code",
   "execution_count": 4,
   "metadata": {},
   "outputs": [
    {
     "name": "stdout",
     "output_type": "stream",
     "text": [
      "Original array\n",
      "[16 97 24 20 89 51 67  6 77 15]\n",
      "\n",
      "Sorted array\n",
      "[ 6 15 16 20 24 51 67 77 89 97]\n"
     ]
    }
   ],
   "source": [
    "arr1 = np.random.randint(1, 101, size = 10)\n",
    "print(f\"Original array\\n{arr1}\\n\")\n",
    "arr2 = np.sort(arr1)\n",
    "print(f\"Sorted array\\n{arr2}\")"
   ]
  },
  {
   "cell_type": "markdown",
   "metadata": {},
   "source": [
    "\n",
    "2. Create a 1D NumPy array with 10 random integers between 1 and 100. Sort the array in descending order using `np.sort()` and the `[::-1]` slicing technique.\n"
   ]
  },
  {
   "cell_type": "code",
   "execution_count": 13,
   "metadata": {
    "vscode": {
     "languageId": "plaintext"
    }
   },
   "outputs": [
    {
     "name": "stdout",
     "output_type": "stream",
     "text": [
      "Original array\n",
      "[11 30 10 43 47 74 44 44 38 64]\n",
      "\n",
      "Sorted array\n",
      "[74 64 47 44 44 43 38 30 11 10]\n"
     ]
    }
   ],
   "source": [
    "arr1 = np.random.randint(1, 101, size = 10)\n",
    "print(f\"Original array\\n{arr1}\\n\")\n",
    "arr2 = np.sort(arr1)[::-1]\n",
    "print(f\"Sorted array\\n{arr2}\")"
   ]
  },
  {
   "cell_type": "markdown",
   "metadata": {},
   "source": [
    "\n",
    "3. Create a 1D NumPy array with 10 random integers between 1 and 100. Use `np.argsort()` to get the indices that would sort the array in ascending order.\n"
   ]
  },
  {
   "cell_type": "code",
   "execution_count": 14,
   "metadata": {
    "vscode": {
     "languageId": "plaintext"
    }
   },
   "outputs": [
    {
     "name": "stdout",
     "output_type": "stream",
     "text": [
      "Original array\n",
      "[82  8 12  7 85 60 46 90 42 76]\n",
      "\n",
      "Indices that would sort the array in ascening order\n",
      "[3 1 2 8 6 5 9 0 4 7]\n"
     ]
    }
   ],
   "source": [
    "arr1 = np.random.randint(1, 101, size = 10)\n",
    "print(f\"Original array\\n{arr1}\\n\")\n",
    "arr2 = np.argsort(arr1)\n",
    "print(f\"Indices that would sort the array in ascening order\\n{arr2}\")"
   ]
  },
  {
   "cell_type": "markdown",
   "metadata": {},
   "source": [
    "\n",
    "4. Create a 1D NumPy array with 10 random integers between 1 and 100. Sort the array in-place using the `sort()` method.\n"
   ]
  },
  {
   "cell_type": "code",
   "execution_count": 15,
   "metadata": {
    "vscode": {
     "languageId": "plaintext"
    }
   },
   "outputs": [
    {
     "name": "stdout",
     "output_type": "stream",
     "text": [
      "Original array\n",
      "[45 27 80 98 86 11 48 84 68 28]\n",
      "\n",
      "Sorted array\n",
      "[11 27 28 45 48 68 80 84 86 98]\n"
     ]
    }
   ],
   "source": [
    "arr1 = np.random.randint(1, 101, size = 10)\n",
    "print(f\"Original array\\n{arr1}\\n\")\n",
    "arr1.sort()\n",
    "print(f\"Sorted array\\n{arr1}\")"
   ]
  },
  {
   "cell_type": "markdown",
   "metadata": {},
   "source": [
    "\n",
    "5. Create a 2D NumPy array with dimensions 3x4 filled with random integers between 1 and 100. Sort the array along the first axis (rows) using `np.sort()`.\n"
   ]
  },
  {
   "cell_type": "code",
   "execution_count": 17,
   "metadata": {
    "vscode": {
     "languageId": "plaintext"
    }
   },
   "outputs": [
    {
     "name": "stdout",
     "output_type": "stream",
     "text": [
      "Original array\n",
      "[[31 35 89 11]\n",
      " [64 23 33 82]\n",
      " [56 31 54 86]]\n",
      "\n",
      "Sorted array along first axis\n",
      "[[31 23 33 11]\n",
      " [56 31 54 82]\n",
      " [64 35 89 86]]\n"
     ]
    }
   ],
   "source": [
    "arr1 = np.random.randint(1, 101, size = (3, 4))\n",
    "print(f\"Original array\\n{arr1}\\n\")\n",
    "arr2 = np.sort(arr1, axis = 0)\n",
    "print(f\"Sorted array along the first axis\\n{arr2}\")"
   ]
  },
  {
   "cell_type": "markdown",
   "metadata": {},
   "source": [
    "\n",
    "6. Create a 2D NumPy array with dimensions 4x5 filled with random integers between 1 and 100. Sort the array along the second axis (columns) using `np.sort()`.\n"
   ]
  },
  {
   "cell_type": "code",
   "execution_count": 19,
   "metadata": {
    "vscode": {
     "languageId": "plaintext"
    }
   },
   "outputs": [
    {
     "name": "stdout",
     "output_type": "stream",
     "text": [
      "Original array\n",
      "[[ 4 97 75 77  6]\n",
      " [59 88 30 44 33]\n",
      " [86 32 59 70 61]\n",
      " [10 83 65 13 64]]\n",
      "\n",
      "Sorted array along the second axis\n",
      "[[ 4  6 75 77 97]\n",
      " [30 33 44 59 88]\n",
      " [32 59 61 70 86]\n",
      " [10 13 64 65 83]]\n"
     ]
    }
   ],
   "source": [
    "arr1 = np.random.randint(1 ,101 ,size = (4, 5))\n",
    "print(f\"Original array\\n{arr1}\\n\")\n",
    "arr2 = np.sort(arr1, axis = 1)\n",
    "print(f\"Sorted array along the second axis\\n{arr2}\")"
   ]
  },
  {
   "cell_type": "markdown",
   "metadata": {},
   "source": [
    "\n",
    "7. Create a 2D NumPy array with dimensions 5x5 filled with random integers between 1 and 100. Use `np.argsort()` to get the indices that would sort the array along the first axis (rows).\n"
   ]
  },
  {
   "cell_type": "code",
   "execution_count": 20,
   "metadata": {
    "vscode": {
     "languageId": "plaintext"
    }
   },
   "outputs": [
    {
     "name": "stdout",
     "output_type": "stream",
     "text": [
      "Original array\n",
      "[[ 56  82  46   6  99]\n",
      " [ 72  13  71  77  97]\n",
      " [ 11  44  50  61  10]\n",
      " [ 29  72  32  26 100]\n",
      " [ 30   6  75  35  47]]\n",
      "\n",
      "Indices that would sort the array along the first axis\n",
      "[[2 4 3 0 2]\n",
      " [3 1 0 3 4]\n",
      " [4 2 2 4 1]\n",
      " [0 3 1 2 0]\n",
      " [1 0 4 1 3]]\n"
     ]
    }
   ],
   "source": [
    "arr1 = np.random.randint(1, 101, size = (5, 5))\n",
    "print(f\"Original array\\n{arr1}\\n\")\n",
    "arr2 = np.argsort(arr1, axis = 0)\n",
    "print(f\"Indices that would sort the array along the first axis\\n{arr2}\")"
   ]
  },
  {
   "cell_type": "markdown",
   "metadata": {},
   "source": [
    "\n",
    "8. Create a 2D NumPy array with dimensions 4x6 filled with random integers between 1 and 100. Use `np.argsort()` to get the indices that would sort the array along the second axis (columns).\n"
   ]
  },
  {
   "cell_type": "code",
   "execution_count": 21,
   "metadata": {
    "vscode": {
     "languageId": "plaintext"
    }
   },
   "outputs": [
    {
     "name": "stdout",
     "output_type": "stream",
     "text": [
      "Original array\n",
      "[[18 60 65 13  8 47]\n",
      " [69 72 67 65 89 64]\n",
      " [91 78 72 80 42 41]\n",
      " [19 53 35  1 16  5]]\n",
      "\n",
      "Indices that would sort the array along the second axis\n",
      "[[4 3 0 5 1 2]\n",
      " [5 3 2 0 1 4]\n",
      " [5 4 2 1 3 0]\n",
      " [3 5 4 0 2 1]]\n"
     ]
    }
   ],
   "source": [
    "arr1 = np.random.randint(1, 101, size = (4, 6))\n",
    "print(f\"Original array\\n{arr1}\\n\")\n",
    "arr2 = np.argsort(arr1, axis = 1)\n",
    "print(f\"Indices that would sort the array along the second axis\\n{arr2}\")"
   ]
  },
  {
   "cell_type": "markdown",
   "metadata": {},
   "source": [
    "\n",
    "9. Create a 2D NumPy array with dimensions 3x3 filled with random integers between 1 and 100. Sort each row of the array in-place using the `sort()` method.\n"
   ]
  },
  {
   "cell_type": "code",
   "execution_count": 27,
   "metadata": {
    "vscode": {
     "languageId": "plaintext"
    }
   },
   "outputs": [
    {
     "name": "stdout",
     "output_type": "stream",
     "text": [
      "Original array\n",
      "[[ 24  76 100]\n",
      " [ 65  91  19]\n",
      " [ 13  19   5]]\n",
      "\n",
      "Array after in-place row-wise sort\n",
      "[[ 24  76 100]\n",
      " [ 19  65  91]\n",
      " [  5  13  19]]\n"
     ]
    }
   ],
   "source": [
    "arr1 = np.random.randint(1, 101, size = (3, 3))\n",
    "print(f\"Original array\\n{arr1}\\n\")\n",
    "arr1.sort(axis = 1)\n",
    "print(f\"Array after in-place row-wise sort\\n{arr1}\")"
   ]
  },
  {
   "cell_type": "markdown",
   "metadata": {},
   "source": [
    "\n",
    "10. Create a 2D NumPy array with dimensions 5x2 filled with random integers between 1 and 100. Sort each column of the array in-place using the `sort()` method and the `axis` parameter.\n",
    "\n"
   ]
  },
  {
   "cell_type": "code",
   "execution_count": 29,
   "metadata": {
    "vscode": {
     "languageId": "plaintext"
    }
   },
   "outputs": [
    {
     "name": "stdout",
     "output_type": "stream",
     "text": [
      "Original array\n",
      "[[ 8 65]\n",
      " [69 84]\n",
      " [58 75]\n",
      " [ 7 85]\n",
      " [24 12]]\n",
      "\n",
      "Array after in-place column-wise sort\n",
      "[[ 7 12]\n",
      " [ 8 65]\n",
      " [24 75]\n",
      " [58 84]\n",
      " [69 85]]\n"
     ]
    }
   ],
   "source": [
    "arr1 = np.random.randint(1, 101, size = (5, 2))\n",
    "print(f\"Original array\\n{arr1}\\n\")\n",
    "arr1.sort(axis = 0)\n",
    "print(f\"Array after in-place column-wise sort\\n{arr1}\")"
   ]
  },
  {
   "cell_type": "code",
   "execution_count": null,
   "metadata": {},
   "outputs": [],
   "source": []
  }
 ],
 "metadata": {
  "kernelspec": {
   "display_name": "Python 3 (ipykernel)",
   "language": "python",
   "name": "python3"
  },
  "language_info": {
   "codemirror_mode": {
    "name": "ipython",
    "version": 3
   },
   "file_extension": ".py",
   "mimetype": "text/x-python",
   "name": "python",
   "nbconvert_exporter": "python",
   "pygments_lexer": "ipython3",
   "version": "3.13.5"
  }
 },
 "nbformat": 4,
 "nbformat_minor": 4
}
