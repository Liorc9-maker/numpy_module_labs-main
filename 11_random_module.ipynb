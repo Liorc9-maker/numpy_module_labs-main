{
 "cells": [
  {
   "cell_type": "markdown",
   "metadata": {},
   "source": [
    "# 09 Exercises: Random Module\n",
    "\n",
    "**Note**: If any exercises require techniques we haven't covered yet - you should look this up! It's part of the learning process, we need to build the muscle of learning how to do things we haven't seen before.\n",
    "\n",
    "Don't be shy, ask for help on Discord!\n",
    "\n",
    "Remember to print the results of each exercise to verify your understanding of the random functions and their parameters."
   ]
  },
  {
   "cell_type": "code",
   "execution_count": 1,
   "metadata": {},
   "outputs": [],
   "source": [
    "import numpy as np"
   ]
  },
  {
   "cell_type": "markdown",
   "metadata": {},
   "source": [
    "1. Generate a 1D array with 10 random floats between 0 and 1 using `np.random.random_sample()`.\n"
   ]
  },
  {
   "cell_type": "code",
   "execution_count": 17,
   "metadata": {
    "vscode": {
     "languageId": "plaintext"
    }
   },
   "outputs": [
    {
     "name": "stdout",
     "output_type": "stream",
     "text": [
      "[0.46574612 0.52012263 0.08823603 0.64731154 0.76238344 0.10351907\n",
      " 0.15767305 0.76893649 0.33131695 0.04975399]\n"
     ]
    }
   ],
   "source": [
    "arr1 = np.random.random_sample(10)\n",
    "print(arr1)"
   ]
  },
  {
   "cell_type": "markdown",
   "metadata": {},
   "source": [
    "\n",
    "2. Generate a 2D array with shape (3, 4) containing random floats between 2 and 10 using `np.random.uniform()`.\n"
   ]
  },
  {
   "cell_type": "code",
   "execution_count": 15,
   "metadata": {
    "vscode": {
     "languageId": "plaintext"
    }
   },
   "outputs": [
    {
     "name": "stdout",
     "output_type": "stream",
     "text": [
      "[[6.58448328 6.64850867 5.75487262 7.60788881]\n",
      " [4.56100018 6.62166137 4.31531988 2.21498178]\n",
      " [5.34509763 7.65147508 2.43294709 8.02992247]]\n"
     ]
    }
   ],
   "source": [
    "arr1 = np.random.uniform(2, 10, size = (3, 4))\n",
    "print(arr1)"
   ]
  },
  {
   "cell_type": "markdown",
   "metadata": {},
   "source": [
    "\n",
    "3. Generate a 1D array with 5 random integers between 1 and 100 (inclusive) using `np.random.randint()`.\n"
   ]
  },
  {
   "cell_type": "code",
   "execution_count": 8,
   "metadata": {
    "vscode": {
     "languageId": "plaintext"
    }
   },
   "outputs": [
    {
     "name": "stdout",
     "output_type": "stream",
     "text": [
      "[61  9 49 96 17]\n"
     ]
    }
   ],
   "source": [
    "arr1 = np.random.randint(1, 101, size = 5)\n",
    "print(arr1)"
   ]
  },
  {
   "cell_type": "markdown",
   "metadata": {},
   "source": [
    "\n",
    "4. Generate a 2D array with shape (2, 5) containing random integers between -10 and 10 (inclusive) using `np.random.randint()`.\n",
    "\n"
   ]
  },
  {
   "cell_type": "code",
   "execution_count": 21,
   "metadata": {
    "vscode": {
     "languageId": "plaintext"
    }
   },
   "outputs": [
    {
     "name": "stdout",
     "output_type": "stream",
     "text": [
      "[[ -2 -10   9   4   6]\n",
      " [ 10   0   0   7  -2]]\n"
     ]
    }
   ],
   "source": [
    "arr1 = np.random.randint(-10, 11, size = (2, 5))\n",
    "print(arr1)"
   ]
  },
  {
   "cell_type": "markdown",
   "metadata": {},
   "source": [
    "5. Set a random seed to 42 using `np.random.seed()` and generate a random float using `np.random.uniform()`. Repeat this process and verify that you get the same random float.\n"
   ]
  },
  {
   "cell_type": "code",
   "execution_count": 32,
   "metadata": {
    "vscode": {
     "languageId": "plaintext"
    }
   },
   "outputs": [
    {
     "name": "stdout",
     "output_type": "stream",
     "text": [
      "First run: 0.3745401188473625\n",
      "Second run: 0.3745401188473625\n",
      "Are they equal? True\n"
     ]
    }
   ],
   "source": [
    "np.random.seed(42)\n",
    "arr1 = np.random.uniform()\n",
    "print(\"First run:\", arr1)\n",
    "np.random.seed(42)\n",
    "arr2 = np.random.uniform()\n",
    "print(\"Second run:\", arr2)\n",
    "print(\"Are they equal?\", arr1 == arr2)"
   ]
  },
  {
   "cell_type": "markdown",
   "metadata": {},
   "source": [
    "\n",
    "6. Generate a 1D array with 6 random floats from a standard normal distribution (mean=0, std=1) using `np.random.standard_normal()`.\n"
   ]
  },
  {
   "cell_type": "code",
   "execution_count": 40,
   "metadata": {
    "vscode": {
     "languageId": "plaintext"
    }
   },
   "outputs": [
    {
     "name": "stdout",
     "output_type": "stream",
     "text": [
      "[ 0.21863832  0.88176104 -1.00908534 -1.58329421  0.77370042 -0.53814166]\n"
     ]
    }
   ],
   "source": [
    "arr1 = np.random.standard_normal(6)\n",
    "print(arr1)"
   ]
  },
  {
   "cell_type": "markdown",
   "metadata": {},
   "source": [
    "\n",
    "7. Generate a 2D array with shape (4, 3) containing random floats from a normal distribution with mean=5 and std=2 using `np.random.normal()`.\n"
   ]
  },
  {
   "cell_type": "code",
   "execution_count": 43,
   "metadata": {
    "vscode": {
     "languageId": "plaintext"
    }
   },
   "outputs": [
    {
     "name": "stdout",
     "output_type": "stream",
     "text": [
      "[[11.74459251  3.15921839  4.20272322]\n",
      " [ 4.87827183  2.16249908  7.08498323]\n",
      " [ 6.80706498  5.03800066  3.93116709]\n",
      " [ 2.00989226  3.42148334  6.48742257]]\n"
     ]
    }
   ],
   "source": [
    "arr1 = np.random.normal(loc = 5, scale = 2, size = (4, 3))\n",
    "print(arr1)"
   ]
  },
  {
   "cell_type": "markdown",
   "metadata": {},
   "source": [
    "\n",
    "8. Create a list of 5 colors and use `np.random.choice()` to randomly select 3 colors from the list with equal probability.\n"
   ]
  },
  {
   "cell_type": "code",
   "execution_count": 65,
   "metadata": {
    "vscode": {
     "languageId": "plaintext"
    }
   },
   "outputs": [
    {
     "name": "stdout",
     "output_type": "stream",
     "text": [
      "['black' 'red' 'green']\n"
     ]
    }
   ],
   "source": [
    "colors = [\"black\", \"red\", \"purple\", \"blue\", \"green\"]\n",
    "selected = np.random.choice(colors, size = 3, replace = False)\n",
    "print(selected)"
   ]
  },
  {
   "cell_type": "markdown",
   "metadata": {},
   "source": [
    "\n",
    "9. From the same list of colors, randomly select 4 colors with replacement and equal probability using `np.random.choice()`.\n"
   ]
  },
  {
   "cell_type": "code",
   "execution_count": 66,
   "metadata": {
    "vscode": {
     "languageId": "plaintext"
    }
   },
   "outputs": [
    {
     "name": "stdout",
     "output_type": "stream",
     "text": [
      "['purple' 'black' 'green' 'blue']\n"
     ]
    }
   ],
   "source": [
    "selected = np.random.choice(colors, size = 4, replace = True)\n",
    "print(selected)"
   ]
  },
  {
   "cell_type": "markdown",
   "metadata": {},
   "source": [
    "\n",
    "10. From the same list of colors, randomly select 2 colors without replacement and with specified probabilities using `np.random.choice()`.\n"
   ]
  },
  {
   "cell_type": "code",
   "execution_count": 75,
   "metadata": {
    "vscode": {
     "languageId": "plaintext"
    }
   },
   "outputs": [
    {
     "name": "stdout",
     "output_type": "stream",
     "text": [
      "['purple' 'black']\n"
     ]
    }
   ],
   "source": [
    "probs = [0.10, 0.10, 0.7, 0.05, 0.05]\n",
    "selected = np.random.choice(colors, size = 2, replace = False, p = probs)\n",
    "print(selected)"
   ]
  },
  {
   "cell_type": "markdown",
   "metadata": {},
   "source": [
    "\n",
    "11. Create a `np.random.Generator` object with a seed of 123 and use it to generate a 1D array with 5 random floats between 0 and 1.\n"
   ]
  },
  {
   "cell_type": "code",
   "execution_count": 76,
   "metadata": {
    "vscode": {
     "languageId": "plaintext"
    }
   },
   "outputs": [
    {
     "name": "stdout",
     "output_type": "stream",
     "text": [
      "[0.68235186 0.05382102 0.22035987 0.18437181 0.1759059 ]\n"
     ]
    }
   ],
   "source": [
    "rng = np.random.default_rng(123)\n",
    "arr1 = rng.random(5)\n",
    "print(arr1)"
   ]
  },
  {
   "cell_type": "markdown",
   "metadata": {},
   "source": [
    "\n",
    "12. Using the same `np.random.Generator` object, generate a 2D array with shape (2, 3) containing random integers between 1 and 20 (inclusive).\n"
   ]
  },
  {
   "cell_type": "code",
   "execution_count": 81,
   "metadata": {
    "vscode": {
     "languageId": "plaintext"
    }
   },
   "outputs": [
    {
     "name": "stdout",
     "output_type": "stream",
     "text": [
      "[[15  5 17]\n",
      " [16  5 11]]\n"
     ]
    }
   ],
   "source": [
    "arr1 = rng.integers(1, 21, size = (2, 3))\n",
    "print(arr1)"
   ]
  },
  {
   "cell_type": "markdown",
   "metadata": {},
   "source": [
    "\n",
    "13. Using the same `np.random.Generator` object, generate a 1D array with 4 random floats from a normal distribution with mean=10 and std=3.\n"
   ]
  },
  {
   "cell_type": "code",
   "execution_count": 82,
   "metadata": {
    "vscode": {
     "languageId": "plaintext"
    }
   },
   "outputs": [
    {
     "name": "stdout",
     "output_type": "stream",
     "text": [
      "[ 3.37758671 12.48376432 14.62489118 13.38042038]\n"
     ]
    }
   ],
   "source": [
    "arr = rng.normal(loc = 10, scale = 3, size = 4)\n",
    "\n",
    "print(arr)"
   ]
  },
  {
   "cell_type": "markdown",
   "metadata": {},
   "source": [
    "\n",
    "14. Create a list of 6 fruits and use the `np.random.Generator` object to randomly select 2 fruits from the list without replacement and with equal probability.\n"
   ]
  },
  {
   "cell_type": "code",
   "execution_count": 90,
   "metadata": {
    "vscode": {
     "languageId": "plaintext"
    }
   },
   "outputs": [
    {
     "name": "stdout",
     "output_type": "stream",
     "text": [
      "['melon' 'grape']\n"
     ]
    }
   ],
   "source": [
    "fruits = [\"banana\", \"pineapple\", \"cherry\", \"grape\", \"orange\", \"melon\"]\n",
    "selected = rng.choice(fruits, size=2, replace=False)\n",
    "print(selected)"
   ]
  },
  {
   "cell_type": "markdown",
   "metadata": {},
   "source": [
    "\n",
    "15. Using the same list of fruits, use the `np.random.Generator` object to randomly select 5 fruits with replacement and specified probabilities.\n",
    "\n"
   ]
  },
  {
   "cell_type": "code",
   "execution_count": 97,
   "metadata": {
    "vscode": {
     "languageId": "plaintext"
    }
   },
   "outputs": [
    {
     "name": "stdout",
     "output_type": "stream",
     "text": [
      "['melon' 'orange' 'grape' 'cherry' 'banana']\n"
     ]
    }
   ],
   "source": [
    "probs = [0.2, 0.1, 0.1, 0.1, 0.2, 0.3]\n",
    "selected = rng.choice(fruits, size = 5, replace = True, p = probs)\n",
    "print(selected)"
   ]
  }
 ],
 "metadata": {
  "kernelspec": {
   "display_name": "Python 3 (ipykernel)",
   "language": "python",
   "name": "python3"
  },
  "language_info": {
   "codemirror_mode": {
    "name": "ipython",
    "version": 3
   },
   "file_extension": ".py",
   "mimetype": "text/x-python",
   "name": "python",
   "nbconvert_exporter": "python",
   "pygments_lexer": "ipython3",
   "version": "3.13.5"
  }
 },
 "nbformat": 4,
 "nbformat_minor": 4
}
