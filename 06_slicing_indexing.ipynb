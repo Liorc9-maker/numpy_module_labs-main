{
 "cells": [
  {
   "cell_type": "markdown",
   "metadata": {},
   "source": [
    "# 06 - NumPy Slicing Exercises\n",
    "\n",
    "**Note**: If any exercises require techniques we haven't covered yet - you should look this up! It's part of the learning process, we need to build the muscle of learning how to do things we haven't seen before.\n",
    "\n",
    "Don't be shy, ask for help on Discord!\n",
    "\n",
    "1. Create a 1D NumPy array with 10 elements and print the 5th element.\n"
   ]
  },
  {
   "cell_type": "code",
   "execution_count": 1,
   "metadata": {
    "vscode": {
     "languageId": "plaintext"
    }
   },
   "outputs": [],
   "source": [
    "import numpy as np"
   ]
  },
  {
   "cell_type": "code",
   "execution_count": 4,
   "metadata": {},
   "outputs": [
    {
     "name": "stdout",
     "output_type": "stream",
     "text": [
      "4\n"
     ]
    }
   ],
   "source": [
    "arr1 = np.arange(10)\n",
    "print(arr1[4])"
   ]
  },
  {
   "cell_type": "markdown",
   "metadata": {},
   "source": [
    "\n",
    "2. Create a 1D NumPy array with 10 elements and print the last 3 elements using negative indexing.\n"
   ]
  },
  {
   "cell_type": "code",
   "execution_count": 7,
   "metadata": {
    "vscode": {
     "languageId": "plaintext"
    }
   },
   "outputs": [
    {
     "name": "stdout",
     "output_type": "stream",
     "text": [
      "[7 8 9]\n"
     ]
    }
   ],
   "source": [
    "arr1 = np.arange(10)\n",
    "print(arr1[-3:])"
   ]
  },
  {
   "cell_type": "markdown",
   "metadata": {},
   "source": [
    "\n",
    "3. Create a 1D NumPy array with 10 elements and print every other element starting from the 2nd element.\n"
   ]
  },
  {
   "cell_type": "code",
   "execution_count": 9,
   "metadata": {
    "vscode": {
     "languageId": "plaintext"
    }
   },
   "outputs": [
    {
     "name": "stdout",
     "output_type": "stream",
     "text": [
      "[1 3 5 7 9]\n"
     ]
    }
   ],
   "source": [
    "arr1 = np.arange(10)\n",
    "print(arr1[1::2])"
   ]
  },
  {
   "cell_type": "markdown",
   "metadata": {},
   "source": [
    "\n",
    "4. Create a 2D NumPy array with 4 rows and 5 columns. Print the element at the 3rd row and 4th column.\n"
   ]
  },
  {
   "cell_type": "code",
   "execution_count": 18,
   "metadata": {
    "vscode": {
     "languageId": "plaintext"
    }
   },
   "outputs": [
    {
     "name": "stdout",
     "output_type": "stream",
     "text": [
      "[[ 1  2  3  4  5]\n",
      " [ 6  7  8  9 10]\n",
      " [11 12 13 14 15]\n",
      " [16 17 18 19 20]]\n",
      "\n",
      "14\n"
     ]
    }
   ],
   "source": [
    "arr1 = np.arange(1, 21).reshape(4, 5)\n",
    "print(arr1)\n",
    "print()\n",
    "print(arr1[2,3])"
   ]
  },
  {
   "cell_type": "markdown",
   "metadata": {},
   "source": [
    "\n",
    "5. Create a 2D NumPy array with 4 rows and 5 columns. Print the 2nd and 3rd rows.\n"
   ]
  },
  {
   "cell_type": "code",
   "execution_count": 21,
   "metadata": {
    "vscode": {
     "languageId": "plaintext"
    }
   },
   "outputs": [
    {
     "name": "stdout",
     "output_type": "stream",
     "text": [
      "[[ 1  2  3  4  5]\n",
      " [ 6  7  8  9 10]\n",
      " [11 12 13 14 15]\n",
      " [16 17 18 19 20]]\n",
      "\n",
      "[[ 6  7  8  9 10]\n",
      " [11 12 13 14 15]]\n"
     ]
    }
   ],
   "source": [
    "arr1 = np.arange(1, 21).reshape(4 ,5)\n",
    "print(arr1)\n",
    "print()\n",
    "print(arr1[1:3:,])"
   ]
  },
  {
   "cell_type": "markdown",
   "metadata": {},
   "source": [
    "\n",
    "6. Create a 2D NumPy array with 4 rows and 5 columns. Print the 2nd and 4th columns.\n"
   ]
  },
  {
   "cell_type": "code",
   "execution_count": 29,
   "metadata": {
    "vscode": {
     "languageId": "plaintext"
    }
   },
   "outputs": [
    {
     "name": "stdout",
     "output_type": "stream",
     "text": [
      "[[ 1  2  3  4  5]\n",
      " [ 6  7  8  9 10]\n",
      " [11 12 13 14 15]\n",
      " [16 17 18 19 20]]\n",
      "\n",
      "[[ 2  3]\n",
      " [ 7  8]\n",
      " [12 13]\n",
      " [17 18]]\n"
     ]
    }
   ],
   "source": [
    "arr1 = np.arange(1, 21).reshape(4, 5)\n",
    "print(arr1)\n",
    "print()\n",
    "print(arr1[:, 1:3])"
   ]
  },
  {
   "cell_type": "markdown",
   "metadata": {},
   "source": [
    "\n",
    "7. Create a 2D NumPy array with 4 rows and 5 columns. Print a subarray consisting of the first 2 rows and the last 2 columns.\n"
   ]
  },
  {
   "cell_type": "code",
   "execution_count": 32,
   "metadata": {
    "vscode": {
     "languageId": "plaintext"
    }
   },
   "outputs": [
    {
     "name": "stdout",
     "output_type": "stream",
     "text": [
      "[[16 14  7 18 16]\n",
      " [12 10 14 14 10]\n",
      " [18 11 11  7 11]\n",
      " [15 13  3 12 19]]\n",
      "\n",
      "[[18 16]\n",
      " [14 10]]\n"
     ]
    }
   ],
   "source": [
    "arr1 = np.random.randint(1, 21, size = (4, 5))\n",
    "print(arr1)\n",
    "print()\n",
    "arr2 = arr1[:2, -2:]\n",
    "print(arr2)"
   ]
  },
  {
   "cell_type": "markdown",
   "metadata": {},
   "source": [
    "\n",
    "8. Create a 1D NumPy array with 10 elements. Assign the value 99 to the 3rd and 4th elements.\n"
   ]
  },
  {
   "cell_type": "raw",
   "metadata": {
    "vscode": {
     "languageId": "plaintext"
    }
   },
   "source": [
    "arr1 = np.arange(10)\n",
    "print(arr1)\n",
    "print()\n",
    "arr1[2:4] = 99\n",
    "print(arr1)"
   ]
  },
  {
   "cell_type": "markdown",
   "metadata": {},
   "source": [
    "\n",
    "9. Create a 2D NumPy array with 4 rows and 5 columns. Assign the value 0 to the elements in the 2nd and 3rd columns.\n"
   ]
  },
  {
   "cell_type": "code",
   "execution_count": 39,
   "metadata": {
    "vscode": {
     "languageId": "plaintext"
    }
   },
   "outputs": [
    {
     "name": "stdout",
     "output_type": "stream",
     "text": [
      "[[10 72 68  5  8]\n",
      " [79 32 68 65 87]\n",
      " [89 93 36 59 86]\n",
      " [56 44 61 50 27]]\n",
      "\n",
      "[[10  0  0  5  8]\n",
      " [79  0  0 65 87]\n",
      " [89  0  0 59 86]\n",
      " [56  0  0 50 27]]\n"
     ]
    }
   ],
   "source": [
    "arr1 = np.random.randint(1, 101, size =(4, 5))\n",
    "print(arr1)\n",
    "print()\n",
    "arr1[:,1:3] = 0\n",
    "print(arr1)"
   ]
  },
  {
   "cell_type": "markdown",
   "metadata": {},
   "source": [
    "\n",
    "10. Create a 1D NumPy array with 15 random integers between 1 and 100. Use boolean indexing to print all the elements that are greater than 50.\n"
   ]
  },
  {
   "cell_type": "code",
   "execution_count": 43,
   "metadata": {
    "vscode": {
     "languageId": "plaintext"
    }
   },
   "outputs": [
    {
     "name": "stdout",
     "output_type": "stream",
     "text": [
      "[ 2 66 33 66 97 81  1 35 73 47 44  5 99 57 17]\n",
      "\n",
      "[66 66 97 81 73 99 57]\n"
     ]
    }
   ],
   "source": [
    "arr1 = np.random.randint(1, 101, size = 15)\n",
    "print(arr1)\n",
    "print()\n",
    "\n",
    "print(arr1[arr1 > 50])"
   ]
  },
  {
   "cell_type": "markdown",
   "metadata": {},
   "source": [
    "\n",
    "11. Create a 2D NumPy array with 5 rows and 5 columns filled with random integers between 1 and 100. Use boolean indexing to print all the elements that are divisible by 3.\n"
   ]
  },
  {
   "cell_type": "code",
   "execution_count": 47,
   "metadata": {
    "vscode": {
     "languageId": "plaintext"
    }
   },
   "outputs": [
    {
     "name": "stdout",
     "output_type": "stream",
     "text": [
      "[[71 10 71  6  5]\n",
      " [75 83 59 82 21]\n",
      " [90  6 38 78 93]\n",
      " [55 80  9 34 43]\n",
      " [25 98 36 98 51]]\n",
      "\n",
      "Elements divisible by 3:  [ 6 75 21 90  6 78 93  9 36 51]\n"
     ]
    }
   ],
   "source": [
    "arr1 = np.random.randint(1, 101, size = (5, 5))\n",
    "print(arr1)\n",
    "print()\n",
    "print(\"Elements divisible by 3: \",arr1[arr1 % 3 == 0])"
   ]
  },
  {
   "cell_type": "markdown",
   "metadata": {},
   "source": [
    "\n",
    "12. Create two 1D NumPy arrays with 10 random integers between 1 and 100. Use boolean indexing to print the elements from the first array that are greater than the corresponding elements in the second array.\n"
   ]
  },
  {
   "cell_type": "code",
   "execution_count": 49,
   "metadata": {
    "vscode": {
     "languageId": "plaintext"
    }
   },
   "outputs": [
    {
     "name": "stdout",
     "output_type": "stream",
     "text": [
      "[15 33 34 13 35 61 62 81 58 47]\n",
      "\n",
      "[13 36 53 32 46 77 82 74 90 32]\n",
      "\n",
      "[15 81 47]\n"
     ]
    }
   ],
   "source": [
    "arr1 = np.random.randint(1, 101, size = 10)\n",
    "print(arr1)\n",
    "print()\n",
    "arr2= np.random.randint(1, 101, size = 10)\n",
    "print(arr2)\n",
    "print()\n",
    "print(arr1[arr1 > arr2])"
   ]
  },
  {
   "cell_type": "markdown",
   "metadata": {},
   "source": [
    "\n",
    "13. Create a 2D NumPy array with 6 rows and 6 columns filled with random integers between 1 and 100. Use boolean indexing to print the rows where the sum of the elements in the row is greater than 300.\n"
   ]
  },
  {
   "cell_type": "code",
   "execution_count": 57,
   "metadata": {
    "vscode": {
     "languageId": "plaintext"
    }
   },
   "outputs": [
    {
     "name": "stdout",
     "output_type": "stream",
     "text": [
      "[[ 4 42 46 29 39 35]\n",
      " [25 51 43 14 60 85]\n",
      " [48 39 34 33  2 78]\n",
      " [64 91 18 30 70 10]\n",
      " [73 40 73 14 84 34]\n",
      " [44  2 33 70 15 97]]\n",
      "\n",
      "[[73 40 73 14 84 34]]\n"
     ]
    }
   ],
   "source": [
    "arr1 = np.random.randint(1, 101, size = (6, 6))\n",
    "print(arr1)\n",
    "print()\n",
    "row_sum = arr1.sum(axis = 1)\n",
    "print(arr1[row_sum > 300])"
   ]
  },
  {
   "cell_type": "markdown",
   "metadata": {},
   "source": [
    "\n",
    "14. Create a 1D NumPy array with 20 random integers between 1 and 100. Use integer array indexing to print the elements at indices 2, 5, and 9.\n"
   ]
  },
  {
   "cell_type": "code",
   "execution_count": 63,
   "metadata": {
    "vscode": {
     "languageId": "plaintext"
    }
   },
   "outputs": [
    {
     "name": "stdout",
     "output_type": "stream",
     "text": [
      "[27 88 13 13 88 25 59  3  1 84 93 54 64 31 59 50  1 18 12 57]\n",
      "[13 25 84]\n"
     ]
    }
   ],
   "source": [
    "arr1 = np.random.randint(1, 101, size = 20)\n",
    "print(arr1)\n",
    "print(arr1[[2, 5, 9]])"
   ]
  },
  {
   "cell_type": "markdown",
   "metadata": {},
   "source": [
    "\n",
    "15. Create a 2D NumPy array with 5 rows and 5 columns filled with random integers between 1 and 100. Use integer array indexing to print the elements at (1, 1), (2, 3), and (4, 4) in a single array."
   ]
  },
  {
   "cell_type": "code",
   "execution_count": 67,
   "metadata": {
    "vscode": {
     "languageId": "plaintext"
    }
   },
   "outputs": [
    {
     "name": "stdout",
     "output_type": "stream",
     "text": [
      "[[11 82 41 47  3]\n",
      " [13 75 16 17 67]\n",
      " [81 27 74 63 99]\n",
      " [33 59 19 78  9]\n",
      " [75  8 22 97 36]]\n",
      "[75 63 36]\n"
     ]
    }
   ],
   "source": [
    "arr1 = np.random.randint(1, 101, size = (5, 5))\n",
    "print(arr1)\n",
    "print(arr1[[1, 2, 4], [1, 3, 4]])"
   ]
  }
 ],
 "metadata": {
  "kernelspec": {
   "display_name": "Python 3 (ipykernel)",
   "language": "python",
   "name": "python3"
  },
  "language_info": {
   "codemirror_mode": {
    "name": "ipython",
    "version": 3
   },
   "file_extension": ".py",
   "mimetype": "text/x-python",
   "name": "python",
   "nbconvert_exporter": "python",
   "pygments_lexer": "ipython3",
   "version": "3.13.5"
  }
 },
 "nbformat": 4,
 "nbformat_minor": 4
}
